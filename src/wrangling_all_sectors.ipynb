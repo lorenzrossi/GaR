{
 "cells": [
  {
   "cell_type": "code",
   "execution_count": null,
   "metadata": {},
   "outputs": [],
   "source": [
    "import requests\n",
    "import pandas as pd\n",
    "import numpy as np\n",
    "#import eurostat\n",
    "import json\n",
    "import os\n",
    "import datetime as dt\n",
    "from pathlib import Path\n",
    "\n",
    "path = Path(\"/Users/lorenz/Projects/GaR\")"
   ]
  },
  {
   "cell_type": "code",
   "execution_count": 3,
   "metadata": {},
   "outputs": [
    {
     "name": "stdout",
     "output_type": "stream",
     "text": [
      "Working directory: /Users/lorenz/Projects/GaR/src\n"
     ]
    }
   ],
   "source": [
    "import os\n",
    "print(\"Working directory:\", os.getcwd())"
   ]
  },
  {
   "cell_type": "code",
   "execution_count": 4,
   "metadata": {},
   "outputs": [],
   "source": [
    "os.chdir('/Users/lorenz/Projects/GaR/src')\n",
    "#path = 'data'"
   ]
  },
  {
   "cell_type": "code",
   "execution_count": 5,
   "metadata": {},
   "outputs": [],
   "source": [
    "# IMPORT INDUSTRIAL PRODUCTION (IP) DATA \n",
    "\n",
    "ip = pd.read_csv(\"ip_by_sector.csv\")\n",
    "\n",
    "ip = ip[['nace_r2', 'geo', 'TIME_PERIOD', 'OBS_VALUE', 'unit']]\n",
    "\n",
    "ip['Time'] = ip['TIME_PERIOD']\n",
    "\n",
    "#ip['Time'] = pd.to_datetime(ip['Time'], format=\"%Y-%m\")    \n",
    "\n",
    "#ip['Time'] = ip['Time'].dt.strftime('%Y/%m')\n",
    "\n",
    "ip.set_index('Time', inplace=True)"
   ]
  },
  {
   "cell_type": "code",
   "execution_count": 6,
   "metadata": {},
   "outputs": [
    {
     "data": {
      "application/vnd.microsoft.datawrangler.viewer.v0+json": {
       "columns": [
        {
         "name": "Time",
         "rawType": "period[M]",
         "type": "unknown"
        },
        {
         "name": "Prices",
         "rawType": "float64",
         "type": "float"
        }
       ],
       "conversionMethod": "pd.DataFrame",
       "ref": "99d9711e-287a-480c-ad87-c5641c967a26",
       "rows": [
        [
         "2004-01",
         "11.36"
        ],
        [
         "2004-02",
         "10.7975"
        ],
        [
         "2004-03",
         "10.900434782608697"
        ],
        [
         "2004-04",
         "10.974545454545455"
        ],
        [
         "2004-05",
         "11.221904761904762"
        ],
        [
         "2004-06",
         "10.607727272727272"
        ],
        [
         "2004-07",
         "10.656818181818181"
        ],
        [
         "2004-08",
         "12.030909090909091"
        ],
        [
         "2004-09",
         "12.784999999999998"
        ],
        [
         "2004-10",
         "12.065238095238096"
        ],
        [
         "2004-11",
         "12.959545454545456"
        ],
        [
         "2004-12",
         "14.537391304347826"
        ],
        [
         "2005-01",
         "14.123333333333331"
        ],
        [
         "2005-02",
         "16.8315"
        ],
        [
         "2005-03",
         "18.585217391304347"
        ],
        [
         "2005-04",
         "14.80857142857143"
        ],
        [
         "2005-05",
         "14.289090909090909"
        ],
        [
         "2005-06",
         "14.356363636363636"
        ],
        [
         "2005-07",
         "15.540952380952382"
        ],
        [
         "2005-08",
         "15.107826086956523"
        ],
        [
         "2005-09",
         "14.746363636363638"
        ],
        [
         "2005-10",
         "15.534761904761906"
        ],
        [
         "2005-11",
         "19.15909090909091"
        ],
        [
         "2005-12",
         "22.903636363636362"
        ],
        [
         "2006-01",
         "25.694999999999997"
        ],
        [
         "2006-02",
         "22.324"
        ],
        [
         "2006-03",
         "26.028260869565216"
        ],
        [
         "2006-04",
         "21.387999999999998"
        ],
        [
         "2006-05",
         "19.692608695652176"
        ],
        [
         "2006-06",
         "19.58409090909091"
        ],
        [
         "2006-07",
         "19.847619047619048"
        ],
        [
         "2006-08",
         "17.97826086956522"
        ],
        [
         "2006-09",
         "15.951428571428572"
        ],
        [
         "2006-10",
         "14.200454545454546"
        ],
        [
         "2006-11",
         "19.87272727272727"
        ],
        [
         "2006-12",
         "16.45809523809524"
        ],
        [
         "2007-01",
         "13.603478260869565"
        ],
        [
         "2007-02",
         "9.310500000000001"
        ],
        [
         "2007-03",
         "10.338636363636363"
        ],
        [
         "2007-04",
         "8.91904761904762"
        ],
        [
         "2007-05",
         "11.71391304347826"
        ],
        [
         "2007-06",
         "10.586190476190476"
        ],
        [
         "2007-07",
         "14.946363636363635"
        ],
        [
         "2007-08",
         "14.281304347826088"
        ],
        [
         "2007-09",
         "17.057"
        ],
        [
         "2007-10",
         "20.13478260869565"
        ],
        [
         "2007-11",
         "22.223636363636363"
        ],
        [
         "2007-12",
         "23.133333333333333"
        ],
        [
         "2008-01",
         "24.26347826086956"
        ],
        [
         "2008-02",
         "22.760952380952382"
        ]
       ],
       "shape": {
        "columns": 1,
        "rows": 240
       }
      },
      "text/html": [
       "<div>\n",
       "<style scoped>\n",
       "    .dataframe tbody tr th:only-of-type {\n",
       "        vertical-align: middle;\n",
       "    }\n",
       "\n",
       "    .dataframe tbody tr th {\n",
       "        vertical-align: top;\n",
       "    }\n",
       "\n",
       "    .dataframe thead th {\n",
       "        text-align: right;\n",
       "    }\n",
       "</style>\n",
       "<table border=\"1\" class=\"dataframe\">\n",
       "  <thead>\n",
       "    <tr style=\"text-align: right;\">\n",
       "      <th></th>\n",
       "      <th>Prices</th>\n",
       "    </tr>\n",
       "    <tr>\n",
       "      <th>Time</th>\n",
       "      <th></th>\n",
       "    </tr>\n",
       "  </thead>\n",
       "  <tbody>\n",
       "    <tr>\n",
       "      <th>2004-01</th>\n",
       "      <td>11.360000</td>\n",
       "    </tr>\n",
       "    <tr>\n",
       "      <th>2004-02</th>\n",
       "      <td>10.797500</td>\n",
       "    </tr>\n",
       "    <tr>\n",
       "      <th>2004-03</th>\n",
       "      <td>10.900435</td>\n",
       "    </tr>\n",
       "    <tr>\n",
       "      <th>2004-04</th>\n",
       "      <td>10.974545</td>\n",
       "    </tr>\n",
       "    <tr>\n",
       "      <th>2004-05</th>\n",
       "      <td>11.221905</td>\n",
       "    </tr>\n",
       "    <tr>\n",
       "      <th>...</th>\n",
       "      <td>...</td>\n",
       "    </tr>\n",
       "    <tr>\n",
       "      <th>2023-08</th>\n",
       "      <td>33.523043</td>\n",
       "    </tr>\n",
       "    <tr>\n",
       "      <th>2023-09</th>\n",
       "      <td>36.527619</td>\n",
       "    </tr>\n",
       "    <tr>\n",
       "      <th>2023-10</th>\n",
       "      <td>43.264545</td>\n",
       "    </tr>\n",
       "    <tr>\n",
       "      <th>2023-11</th>\n",
       "      <td>43.269091</td>\n",
       "    </tr>\n",
       "    <tr>\n",
       "      <th>2023-12</th>\n",
       "      <td>35.318571</td>\n",
       "    </tr>\n",
       "  </tbody>\n",
       "</table>\n",
       "<p>240 rows × 1 columns</p>\n",
       "</div>"
      ],
      "text/plain": [
       "            Prices\n",
       "Time              \n",
       "2004-01  11.360000\n",
       "2004-02  10.797500\n",
       "2004-03  10.900435\n",
       "2004-04  10.974545\n",
       "2004-05  11.221905\n",
       "...            ...\n",
       "2023-08  33.523043\n",
       "2023-09  36.527619\n",
       "2023-10  43.264545\n",
       "2023-11  43.269091\n",
       "2023-12  35.318571\n",
       "\n",
       "[240 rows x 1 columns]"
      ]
     },
     "execution_count": 6,
     "metadata": {},
     "output_type": "execute_result"
    }
   ],
   "source": [
    "# IMPORT GAS PRICES DATA \n",
    "\n",
    "gasp = pd.read_csv(\"gas_data.csv\")\n",
    "\n",
    "gasp[['Prices']] = gasp[['LSG Natural Gas TTF NL 1st Fut. Day - SETT. PRICE']]\n",
    "\n",
    "gasp = gasp[['Time','Prices']]\n",
    "\n",
    "gasp['Time'] = pd.to_datetime(gasp['Time'], format=\"%m/%d/%y\")\n",
    "\n",
    "month_gasp = gasp.groupby(gasp['Time'].dt.to_period('M')).mean() # group data and make monthly average to match IP data\n",
    "\n",
    "month_gasp = month_gasp.drop(columns=['Time'])\n",
    "\n",
    "month_gasp.loc['2004-01':'2023-12']"
   ]
  },
  {
   "cell_type": "code",
   "execution_count": null,
   "metadata": {},
   "outputs": [],
   "source": [
    "df = ip.drop(columns=['TIME_PERIOD'])\n",
    "\n",
    "df['geo'] = df['geo'].astype('category')\n",
    "\n",
    "df['nace_r2'] = df['nace_r2'].astype('category')\n",
    "\n",
    "df['unit'] = df['unit'].astype('category')\n",
    "\n",
    "df_ue = df[df['geo'] == 'EU27_2020']\n",
    "\n",
    "df_ue_c = df_ue[df_ue['nace_r2'] == 'C']\n",
    "\n",
    "df_ue_c21 = df_ue_c[df_ue_c['unit'] == 'I15']\n",
    "\n",
    "df_ue_c21['GAS_PRICE'] = month_gasp['Prices']"
   ]
  }
 ],
 "metadata": {
  "kernelspec": {
   "display_name": ".venv",
   "language": "python",
   "name": "python3"
  },
  "language_info": {
   "codemirror_mode": {
    "name": "ipython",
    "version": 3
   },
   "file_extension": ".py",
   "mimetype": "text/x-python",
   "name": "python",
   "nbconvert_exporter": "python",
   "pygments_lexer": "ipython3",
   "version": "3.13.2"
  }
 },
 "nbformat": 4,
 "nbformat_minor": 2
}
