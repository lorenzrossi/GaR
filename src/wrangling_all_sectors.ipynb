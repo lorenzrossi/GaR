{
 "cells": [
  {
   "cell_type": "code",
   "execution_count": null,
   "metadata": {},
   "outputs": [],
   "source": [
    "import requests\n",
    "import pandas as pd\n",
    "import numpy as np\n",
    "#import eurostat\n",
    "import json\n",
    "import os\n",
    "import datetime as dt"
   ]
  },
  {
   "cell_type": "code",
   "execution_count": null,
   "metadata": {},
   "outputs": [],
   "source": [
    "import os\n",
    "print(\"Working directory:\", os.getcwd())"
   ]
  },
  {
   "cell_type": "code",
   "execution_count": null,
   "metadata": {},
   "outputs": [],
   "source": [
    "os.chdir('\\\\Users\\\\lorenz\\\\Library\\\\CloudStorage\\\\OneDrive-UniversitàdegliStudidiMilano\\\\PhD\\\\Progetto\\\\GaR\\\\src')\n",
    "path = 'data'"
   ]
  },
  {
   "cell_type": "code",
   "execution_count": null,
   "metadata": {},
   "outputs": [],
   "source": [
    "# IMPORT INDUSTRIAL PRODUCTION (IP) DATA \n",
    "\n",
    "ip = pd.read_csv(\"ip_by_sector.csv\")\n",
    "\n",
    "ip = ip[['nace_r2', 'geo', 'TIME_PERIOD', 'OBS_VALUE', 'unit']]\n",
    "\n",
    "ip['Time'] = ip['TIME_PERIOD']\n",
    "\n",
    "#ip['Time'] = pd.to_datetime(ip['Time'], format=\"%Y-%m\")    \n",
    "\n",
    "#ip['Time'] = ip['Time'].dt.strftime('%Y/%m')\n",
    "\n",
    "ip.set_index('Time', inplace=True)"
   ]
  },
  {
   "cell_type": "code",
   "execution_count": null,
   "metadata": {},
   "outputs": [],
   "source": [
    "# IMPORT GAS PRICES DATA \n",
    "\n",
    "gasp = pd.read_csv(\"gas_data.csv\")\n",
    "\n",
    "gasp[['Prices']] = gasp[['LSG Natural Gas TTF NL 1st Fut. Day - SETT. PRICE']]\n",
    "\n",
    "gasp = gasp[['Time','Prices']]\n",
    "\n",
    "gasp['Time'] = pd.to_datetime(gasp['Time'], format=\"%m/%d/%y\")\n",
    "\n",
    "month_gasp = gasp.groupby(gasp['Time'].dt.to_period('M')).mean() # group data and make monthly average to match IP data\n",
    "\n",
    "month_gasp = month_gasp.drop(columns=['Time'])\n",
    "\n",
    "month_gasp.loc['2004-01':'2023-12']"
   ]
  },
  {
   "cell_type": "code",
   "execution_count": null,
   "metadata": {},
   "outputs": [],
   "source": [
    "df = ip.drop(columns=['TIME_PERIOD'])\n",
    "\n",
    "df['geo'] = df['geo'].astype('category')\n",
    "\n",
    "df['nace_r2'] = df['nace_r2'].astype('category')\n",
    "\n",
    "df['unit'] = df['unit'].astype('category')\n",
    "\n",
    "df_ue = df[df['geo'] == 'EU27_2020']\n",
    "\n",
    "df_ue_c = df_ue[df_ue['nace_r2'] == 'C']\n",
    "\n",
    "df_ue_c21 = df_ue_c[df_ue_c['unit'] == 'I15']\n",
    "\n",
    "df_ue_c21['GAS_PRICE'] = month_gasp['Prices']"
   ]
  }
 ],
 "metadata": {
  "language_info": {
   "name": "python"
  }
 },
 "nbformat": 4,
 "nbformat_minor": 2
}
