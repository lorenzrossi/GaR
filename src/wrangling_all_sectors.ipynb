{
 "cells": [
  {
   "cell_type": "code",
   "execution_count": 43,
   "metadata": {},
   "outputs": [],
   "source": [
    "import requests\n",
    "import pandas as pd\n",
    "import numpy as np\n",
    "#import eurostat\n",
    "import json\n",
    "import os\n",
    "import datetime as dt\n",
    "from pathlib import Path\n",
    "from scipy import stats\n",
    "\n",
    "\n",
    "#path = Path(\"/Users/lorenz/Projects/GaR\")"
   ]
  },
  {
   "cell_type": "code",
   "execution_count": 44,
   "metadata": {},
   "outputs": [
    {
     "name": "stdout",
     "output_type": "stream",
     "text": [
      "Working directory: /Users/lorenz/Projects/GaR/src\n"
     ]
    }
   ],
   "source": [
    "import os\n",
    "print(\"Working directory:\", os.getcwd())"
   ]
  },
  {
   "cell_type": "code",
   "execution_count": 45,
   "metadata": {},
   "outputs": [],
   "source": [
    "os.chdir('/Users/lorenz/Projects/GaR/src')\n",
    "#path = 'data'"
   ]
  },
  {
   "cell_type": "code",
   "execution_count": 46,
   "metadata": {},
   "outputs": [],
   "source": [
    "# IMPORT INDUSTRIAL PRODUCTION (IP) DATA \n",
    "\n",
    "ip = pd.read_csv(\"ip_by_sector.csv\")\n",
    "\n",
    "ip = ip[['nace_r2', 'geo', 'TIME_PERIOD', 'OBS_VALUE', 'unit']]\n",
    "\n",
    "ip['Time'] = ip['TIME_PERIOD']\n",
    "\n",
    "ip['Time'] = pd.to_datetime(ip['Time'], format=\"%Y-%m\")  \n",
    "\n",
    "# Ensure TIME_PERIOD is datetime\n",
    "ip['TIME_PERIOD'] = pd.to_datetime(ip['TIME_PERIOD'])\n",
    "\n",
    "# Filter for dates between January 2004 and December 2023 (inclusive)\n",
    "start_date = \"2004-01-01\"\n",
    "end_date = \"2023-12-31\"\n",
    "\n",
    "df = ip[(ip['TIME_PERIOD'] >= start_date) & (ip['TIME_PERIOD'] <= end_date)]\n",
    "\n",
    "#ip = ip.loc['2004-01':'2023-12']\n",
    "\n",
    "#ip['Time'] = ip['Time'].dt.strftime('%Y/%m')\n",
    "\n",
    "ip.set_index('Time', inplace=True)"
   ]
  },
  {
   "cell_type": "code",
   "execution_count": 47,
   "metadata": {},
   "outputs": [],
   "source": [
    "# Define the series of interest\n",
    "target_series = [\n",
    "    'MIG - intermediate goods',\n",
    "    'MIG - durable consumer goods',\n",
    "    'MIG - non-durable consumer goods',\n",
    "    'MIG - energy (except section E)',\n",
    "    'MIG - capital goods',\n",
    "    'Manufacture of chemicals and chemical products; basic pharmaceutical products and pharmaceutical preparations',\n",
    "    'Manufacture of rubber and plastic products and other non-metallic mineral products',\n",
    "    'Manufacture of wood, paper, printing and reproduction',\n",
    "    'Manufacture of food products and beverages',\n",
    "    'Manufacture of basic metals and fabricated metal products, except machinery and equipment',\n",
    "    'Mining and quarrying; manufacturing; electricity, gas, steam and air conditioning supply'\n",
    "]\n",
    "\n",
    "# Filter the DataFrame\n",
    "filtered_ip = ip[ip['nace_r2'].isin(target_series)]\n",
    "\n",
    "filtered_ip = filtered_ip.copy()\n",
    "filtered_ip['TIME_PERIOD'] = pd.to_datetime(filtered_ip['TIME_PERIOD'], format=\"%Y-%m\")\n",
    "\n",
    "# Save the filtered dataset\n",
    "#filtered_ip.to_csv(\"filtered_ip_sectors.csv\", index=False)"
   ]
  },
  {
   "cell_type": "code",
   "execution_count": 48,
   "metadata": {},
   "outputs": [],
   "source": [
    "# IMPORT GAS PRICES DATA \n",
    "\n",
    "gasp = pd.read_csv(\"gas_data.csv\")\n",
    "\n",
    "#gasp[['Prices']] = gasp[['LSG Natural Gas TTF NL 1st Fut. Day - SETT. PRICE']]\n",
    "#\n",
    "#gasp = gasp[['Time','Prices']]\n",
    "#\n",
    "#gasp['Time'] = pd.to_datetime(gasp['Time'], format=\"%m/%d/%y\")\n",
    "#\n",
    "#month_gasp = gasp.groupby(gasp['Time'].dt.to_period('M')).mean() # group data and make monthly average to match IP data\n",
    "#\n",
    "#month_gasp = month_gasp.drop(columns=['Time'])\n",
    "#\n",
    "#month_gasp.loc['2004-01':'2023-12']"
   ]
  },
  {
   "cell_type": "code",
   "execution_count": 49,
   "metadata": {},
   "outputs": [],
   "source": [
    "# Extract and rename gas prices\n",
    "gasp['Prices'] = gasp['LSG Natural Gas TTF NL 1st Fut. Day - SETT. PRICE']\n",
    "gasp = gasp[['Time', 'Prices']]\n",
    "gasp['Time'] = pd.to_datetime(gasp['Time'], format=\"%m/%d/%y\")\n",
    "\n",
    "# Compute monthly average prices\n",
    "month_gasp = gasp.groupby(gasp['Time'].dt.to_period('M')).mean()\n",
    "month_gasp.index = month_gasp.index.to_timestamp()\n",
    "month_gasp = month_gasp.loc['2004-01':'2023-12']  # Limit range to match IP data\n",
    "\n",
    "# --- Merge monthly gas prices with IP data ---\n",
    "\n",
    "df = filtered_ip.merge(month_gasp, left_on='TIME_PERIOD', right_index=True, how='left')"
   ]
  },
  {
   "cell_type": "code",
   "execution_count": 39,
   "metadata": {},
   "outputs": [],
   "source": [
    "#df = df.drop(columns=['TIME_PERIOD'])\n",
    "\n",
    "df['geo'] = df['geo'].astype('category')\n",
    "\n",
    "df['nace_r2'] = df['nace_r2'].astype('category')\n",
    "\n",
    "df['unit'] = df['unit'].astype('category')\n",
    "\n",
    "df_ue = df[df['geo'] == 'European Union - 27 countries (from 2020)']\n",
    "\n",
    "#df_ue_c = df_ue[df_ue['nace_r2'] == 'C']\n",
    "\n",
    "#df_ue = df_ue[df_ue['unit'] == 'I15']\n",
    "\n",
    "df_ue['GAS_PRICE'] = month_gasp['Prices']"
   ]
  },
  {
   "cell_type": "code",
   "execution_count": 50,
   "metadata": {},
   "outputs": [],
   "source": [
    "df_ue.to_csv(\"/Users/lorenz/Library/CloudStorage/OneDrive-UniversitàdegliStudidiMilano/PhD/Progetto/matlab/codice_ipgas/databysector.csv\", index=False)"
   ]
  },
  {
   "cell_type": "code",
   "execution_count": 51,
   "metadata": {},
   "outputs": [
    {
     "name": "stdout",
     "output_type": "stream",
     "text": [
      "Saved: MIG_-_capital_goods.csv\n",
      "Saved: MIG_-_durable_consumer_goods.csv\n",
      "Saved: MIG_-_energy_(except_section_E).csv\n",
      "Saved: MIG_-_intermediate_goods.csv\n",
      "Saved: MIG_-_non-durable_consumer_goods.csv\n",
      "Saved: Manufacture_of_basic_metals_and_fabricated_metal_products_except_machinery_and_equipment.csv\n",
      "Saved: Manufacture_of_chemicals_and_chemical_products_basic_pharmaceutical_products_and_pharmaceutical_preparations.csv\n",
      "Saved: Manufacture_of_food_products_and_beverages.csv\n",
      "Saved: Manufacture_of_rubber_and_plastic_products_and_other_non-metallic_mineral_products.csv\n",
      "Saved: Manufacture_of_wood_paper_printing_and_reproduction.csv\n",
      "Saved: Mining_and_quarrying_manufacturing_electricity_gas_steam_and_air_conditioning_supply.csv\n"
     ]
    }
   ],
   "source": [
    "# Optional: create a folder to store the outputs\n",
    "output_folder = \"/Users/lorenz/Library/CloudStorage/OneDrive-UniversitàdegliStudidiMilano/PhD/Progetto/matlab/codice_ipgas/sector_datasets/\"\n",
    "os.makedirs(output_folder, exist_ok=True)\n",
    "\n",
    "# Loop through each sector\n",
    "for series_name, group in df.groupby('nace_r2'):\n",
    "    df = group.copy()\n",
    "\n",
    "    # Rename columns\n",
    "    df = df.rename(columns={\"OBS_VALUE\": \"IP\", \"Prices\": \"GAS_PRICE\"})\n",
    "\n",
    "    # Coerce IP and GAS_PRICE to numeric\n",
    "    df[\"IP\"] = pd.to_numeric(df[\"IP\"], errors=\"coerce\")\n",
    "    df[\"GAS_PRICE\"] = pd.to_numeric(df[\"GAS_PRICE\"], errors=\"coerce\")\n",
    "\n",
    "    # Sort by time to ensure proper lag alignment\n",
    "    df = df.sort_values(\"TIME_PERIOD\")\n",
    "\n",
    "    # Lagged and differenced variables\n",
    "    df['IP_t1'] = df['IP'].shift(1)\n",
    "    df['IP_t1'] = df['IP_t1'].interpolate(method=\"nearest\").ffill().bfill()\n",
    "    #df['IP_diffed'] = df['IP'] - df['IP_t1']\n",
    "\n",
    "    df['GAS_PRICE_t1'] = df['GAS_PRICE'].shift(1)\n",
    "    df['GAS_PRICE_t1'] = df['GAS_PRICE_t1'].interpolate(method=\"nearest\").ffill().bfill()\n",
    "    #df['GAS_PRICE_diffed'] = df['GAS_PRICE'] - df['GAS_PRICE_t1']\n",
    "\n",
    "    # Clean filename\n",
    "    safe_name = series_name.replace(\" \", \"_\").replace(\";\", \"\").replace(\",\", \"\").replace(\"/\", \"_\")\n",
    "    filename = f\"{safe_name}.csv\"\n",
    "\n",
    "    # Save to CSV\n",
    "    df.to_csv(os.path.join(output_folder, filename), index=False)\n",
    "    print(f\"Saved: {filename}\")"
   ]
  }
 ],
 "metadata": {
  "kernelspec": {
   "display_name": ".venv",
   "language": "python",
   "name": "python3"
  },
  "language_info": {
   "codemirror_mode": {
    "name": "ipython",
    "version": 3
   },
   "file_extension": ".py",
   "mimetype": "text/x-python",
   "name": "python",
   "nbconvert_exporter": "python",
   "pygments_lexer": "ipython3",
   "version": "3.13.2"
  }
 },
 "nbformat": 4,
 "nbformat_minor": 2
}
