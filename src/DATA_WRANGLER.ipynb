{
 "cells": [
  {
   "cell_type": "code",
   "execution_count": 1,
   "metadata": {},
   "outputs": [],
   "source": [
    "import requests\n",
    "import pandas as pd\n",
    "import numpy as np\n",
    "#import eurostat\n",
    "import json\n",
    "import os\n",
    "import datetime as dt\n",
    "import openpyxl"
   ]
  },
  {
   "cell_type": "code",
   "execution_count": 2,
   "metadata": {},
   "outputs": [],
   "source": [
    "# ==== CONFIG ====\n",
    "BASE_DIR = '/Users/lorenz/Projects/GaR/'\n",
    "DATA_DIR = os.path.join(BASE_DIR, 'src')\n",
    "os.makedirs(DATA_DIR, exist_ok=True)\n",
    "\n",
    "# INPUT FILES (update if needed)\n",
    "IP_FILE = os.path.join(DATA_DIR,'estat_sts_inpr_m_filtered_en-3.csv')\n",
    "GAS_FILE = os.path.join(DATA_DIR, 'gas_data.csv')\n",
    "OIL_FILE = os.path.join(DATA_DIR, 'oilSupplyNewsShocks_2024M06.xlsx')\n",
    "BRENT_FILE = os.path.join(DATA_DIR, 'brenteu.xlsx')"
   ]
  },
  {
   "cell_type": "code",
   "execution_count": 3,
   "metadata": {},
   "outputs": [],
   "source": [
    "# ==== LOAD INDUSTRIAL PRODUCTION ====\n",
    "ip = pd.read_csv(IP_FILE)\n",
    "ip['Time'] = pd.to_datetime(ip['TIME_PERIOD'], format=\"%Y-%m\", errors='coerce')\n",
    "ip = ip.dropna(subset=['Time'])\n",
    "ip = ip.set_index('Time')\n",
    "ip = ip[['nace_r2', 'geo', 'OBS_VALUE', 'unit']]"
   ]
  },
  {
   "cell_type": "code",
   "execution_count": 4,
   "metadata": {},
   "outputs": [],
   "source": [
    "# ==== GAS PRICES ====\n",
    "gasp = pd.read_csv(GAS_FILE)\n",
    "gasp['Prices'] = gasp['LSG Natural Gas TTF NL 1st Fut. Day - SETT. PRICE']\n",
    "gasp['Time'] = pd.to_datetime(gasp['Time'], format=\"%m/%d/%y\")\n",
    "gas_month = gasp.groupby(gasp['Time'].dt.to_period('M')).mean(numeric_only=True)\n",
    "gas_month.index = pd.to_datetime(gas_month.index.to_timestamp())\n",
    "gas_month['Prices_t1'] = gas_month['Prices'].shift(1)\n",
    "gas_month['Prices_t1'] = gas_month['Prices_t1'].interpolate(method=\"nearest\").ffill().bfill()\n"
   ]
  },
  {
   "cell_type": "code",
   "execution_count": 5,
   "metadata": {},
   "outputs": [],
   "source": [
    "# ==== OIL SHOCKS ====\n",
    "oil_df = pd.read_excel(OIL_FILE, sheet_name=\"Monthly\")\n",
    "oil_df['Date'] = pd.to_datetime(oil_df['Date'].str.replace(\"M\", \"\"), format=\"%Y%m\")\n",
    "oil_df = oil_df[(oil_df['Date'] >= \"2004-01-01\") & (oil_df['Date'] <= \"2023-12-31\")]\n",
    "oil_df = oil_df.rename(columns={\"Date\": \"Time\"})\n",
    "oil_df = oil_df.groupby(oil_df['Time'].dt.to_period('M')).mean(numeric_only=True)\n",
    "oil_df.index = pd.to_datetime(oil_df.index.to_timestamp())\n",
    "oil_fixed = oil_df.rename(columns={\n",
    "    \"Oil supply surprise series\": \"OilSurprise\",\n",
    "    \"Oil supply news shock\": \"OilNewsShock\"\n",
    "})[[\"OilNewsShock\", \"OilSurprise\"]]"
   ]
  },
  {
   "cell_type": "code",
   "execution_count": 6,
   "metadata": {},
   "outputs": [],
   "source": [
    "# ==== BRENT ====\n",
    "brent_df = pd.read_excel(BRENT_FILE, sheet_name=\"Foglio1\")\n",
    "brent_df['Date'] = pd.to_datetime(brent_df['Date'])\n",
    "brent_df = brent_df.rename(columns={'Europe Brent Spot FOB U$/BBL Daily': 'BRENT_PRICE'})\n",
    "brent_month = brent_df.groupby(brent_df['Date'].dt.to_period('M')).mean(numeric_only=True)\n",
    "brent_month.index = pd.to_datetime(brent_month.index.to_timestamp())\n",
    "brent_month['BRENT_PRICE_t1'] = brent_month['BRENT_PRICE'].shift(1)\n",
    "brent_month['BRENT_PRICE_t1'] = brent_month['BRENT_PRICE_t1'].interpolate(method=\"nearest\").ffill().bfill()\n",
    "\n",
    "# Align all indices to month start for consistent joins\n",
    "ip.index = pd.to_datetime(ip.index.to_period('M').astype(str))\n",
    "gas_month.index = pd.to_datetime(gas_month.index.to_period('M').astype(str))\n",
    "oil_fixed.index = pd.to_datetime(oil_fixed.index.to_period('M').astype(str))\n",
    "brent_month.index = pd.to_datetime(brent_month.index.to_period('M').astype(str))\n",
    "\n",
    "# ==== MERGE BRENT AND OIL ====\n",
    "brent_only = brent_month[[\"BRENT_PRICE\"]].copy()\n",
    "brent_only = brent_only.join(oil_fixed, how='left')\n",
    "brent_only.index.name = \"Time\"\n",
    "brent_only = brent_only.reset_index()\n",
    "brent_only['Time'] = pd.to_datetime(brent_only['Time'])\n",
    "brent_only.to_csv(os.path.join(BASE_DIR, \"oil_only.csv\"), index=False)\n"
   ]
  },
  {
   "cell_type": "code",
   "execution_count": 7,
   "metadata": {},
   "outputs": [],
   "source": [
    "# Align all indices to month start for consistent joins\n",
    "ip.index = pd.to_datetime(ip.index.to_period('M').astype(str))\n",
    "gas_month.index = pd.to_datetime(gas_month.index.to_period('M').astype(str))\n",
    "oil_fixed.index = pd.to_datetime(oil_fixed.index.to_period('M').astype(str))\n",
    "brent_month.index = pd.to_datetime(brent_month.index.to_period('M').astype(str))\n"
   ]
  },
  {
   "cell_type": "code",
   "execution_count": 8,
   "metadata": {},
   "outputs": [
    {
     "name": "stdout",
     "output_type": "stream",
     "text": [
      "Master merged dataset saved.\n"
     ]
    }
   ],
   "source": [
    "# ==== LOOP THROUGH COMBINATIONS ====\n",
    "master = []\n",
    "unit_filter = 'Index, 2021=100'\n",
    "\n",
    "for geo in ip['geo'].unique():\n",
    "    for sector in ip['nace_r2'].unique():\n",
    "        subset = ip[(ip['geo'] == geo) & (ip['nace_r2'] == sector) & (ip['unit'] == unit_filter)]\n",
    "        if subset.empty:\n",
    "            continue\n",
    "\n",
    "        subset = subset.loc['2004-01-01':'2023-12-31'].copy()\n",
    "        if subset.empty:\n",
    "            continue\n",
    "\n",
    "        subset = subset.rename(columns={'OBS_VALUE': 'IP'})\n",
    "        subset = subset.sort_index()\n",
    "\n",
    "        subset['IP_t1'] = subset['IP'].shift(1)\n",
    "        subset['IP_t1'] = subset['IP_t1'].interpolate(method=\"nearest\").ffill().bfill()\n",
    "\n",
    "\n",
    "        subset = subset.join(gas_month[['Prices', 'Prices_t1']], how='left')\n",
    "        subset = subset.rename(columns={\n",
    "            'Prices': 'GAS_PRICE',\n",
    "            'Prices_t1': 'GAS_PRICE_t1'\n",
    "        })\n",
    "        subset = subset.join(oil_fixed, how='left')\n",
    "        subset = subset.join(brent_month[['BRENT_PRICE', 'BRENT_PRICE_t1']], how='left')\n",
    "\n",
    "        safe_geo = geo.replace(\" \", \"_\").replace(\"/\", \"_\")\n",
    "        safe_sector = sector.replace(\" \", \"_\").replace(\"/\", \"_\")\n",
    "        out_file = os.path.join(DATA_DIR, f\"{safe_geo}_{safe_sector}_ip_merged.csv\")\n",
    "        subset.to_csv(out_file, index=True)\n",
    "\n",
    "        master.append(subset)\n",
    "\n",
    "\n",
    "\n",
    "# Combine all into master dataset\n",
    "if master:\n",
    "    df_master = pd.concat(master)\n",
    "    df_master.to_csv(os.path.join(DATA_DIR, \"df_final_all.csv\"))\n",
    "    print(\"Master merged dataset saved.\")\n",
    "else:\n",
    "    print(\"No data found for the specified filters.\")"
   ]
  }
 ],
 "metadata": {
  "kernelspec": {
   "display_name": ".venv",
   "language": "python",
   "name": "python3"
  },
  "language_info": {
   "codemirror_mode": {
    "name": "ipython",
    "version": 3
   },
   "file_extension": ".py",
   "mimetype": "text/x-python",
   "name": "python",
   "nbconvert_exporter": "python",
   "pygments_lexer": "ipython3",
   "version": "3.13.2"
  }
 },
 "nbformat": 4,
 "nbformat_minor": 2
}
