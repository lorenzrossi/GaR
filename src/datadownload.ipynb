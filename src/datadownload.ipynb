{
 "cells": [
  {
   "cell_type": "code",
   "execution_count": 142,
   "metadata": {},
   "outputs": [],
   "source": [
    "import requests\n",
    "import pandas as pd\n",
    "import numpy as np\n",
    "#import eurostat\n",
    "import json\n",
    "import os\n",
    "import datetime"
   ]
  },
  {
   "cell_type": "code",
   "execution_count": 122,
   "metadata": {},
   "outputs": [],
   "source": [
    "#os.chdir('C:\\\\Users\\\\loren\\\\OneDrive\\\\Desktop\\\\PhD\\\\Progetto\\\\python\\\\src')"
   ]
  },
  {
   "cell_type": "code",
   "execution_count": 143,
   "metadata": {},
   "outputs": [],
   "source": [
    "ip = pd.read_csv(\"C:\\\\Users\\\\loren\\\\OneDrive\\\\Desktop\\\\PhD\\\\Progetto\\\\python\\\\data\\\\ip_data.csv\")"
   ]
  },
  {
   "cell_type": "code",
   "execution_count": 144,
   "metadata": {},
   "outputs": [],
   "source": [
    "ip = ip[['TIME_PERIOD','geo', 'OBS_VALUE']]"
   ]
  },
  {
   "cell_type": "code",
   "execution_count": 125,
   "metadata": {},
   "outputs": [],
   "source": [
    "gasp = pd.read_csv(\"C:\\\\Users\\\\loren\\\\OneDrive\\\\Desktop\\\\PhD\\\\Progetto\\\\python\\\\data\\\\TTF gas prices.csv\")"
   ]
  },
  {
   "cell_type": "code",
   "execution_count": 127,
   "metadata": {},
   "outputs": [],
   "source": [
    "gasp.columns\n",
    "\n",
    "gasp = gasp[['#NAME?','LSG Natural Gas TTF NL 1st Fut. Day - SETT. PRICE']]"
   ]
  },
  {
   "cell_type": "code",
   "execution_count": 128,
   "metadata": {},
   "outputs": [
    {
     "name": "stderr",
     "output_type": "stream",
     "text": [
      "C:\\Users\\loren\\AppData\\Local\\Temp\\ipykernel_16304\\2941739282.py:1: SettingWithCopyWarning: \n",
      "A value is trying to be set on a copy of a slice from a DataFrame.\n",
      "Try using .loc[row_indexer,col_indexer] = value instead\n",
      "\n",
      "See the caveats in the documentation: https://pandas.pydata.org/pandas-docs/stable/user_guide/indexing.html#returning-a-view-versus-a-copy\n",
      "  gasp[['Time']] = gasp[['#NAME?']]\n"
     ]
    }
   ],
   "source": [
    "gasp[['Time']] = gasp[['#NAME?']]"
   ]
  },
  {
   "cell_type": "code",
   "execution_count": 129,
   "metadata": {},
   "outputs": [
    {
     "name": "stderr",
     "output_type": "stream",
     "text": [
      "C:\\Users\\loren\\AppData\\Local\\Temp\\ipykernel_16304\\74633443.py:1: SettingWithCopyWarning: \n",
      "A value is trying to be set on a copy of a slice from a DataFrame.\n",
      "Try using .loc[row_indexer,col_indexer] = value instead\n",
      "\n",
      "See the caveats in the documentation: https://pandas.pydata.org/pandas-docs/stable/user_guide/indexing.html#returning-a-view-versus-a-copy\n",
      "  gasp[['Prices']] = gasp[['LSG Natural Gas TTF NL 1st Fut. Day - SETT. PRICE']]\n"
     ]
    }
   ],
   "source": [
    "gasp[['Prices']] = gasp[['LSG Natural Gas TTF NL 1st Fut. Day - SETT. PRICE']]"
   ]
  },
  {
   "cell_type": "code",
   "execution_count": 130,
   "metadata": {},
   "outputs": [],
   "source": [
    "gasp = gasp[['Time','Prices']]"
   ]
  },
  {
   "cell_type": "code",
   "execution_count": 134,
   "metadata": {},
   "outputs": [
    {
     "name": "stderr",
     "output_type": "stream",
     "text": [
      "C:\\Users\\loren\\AppData\\Local\\Temp\\ipykernel_16304\\798635417.py:1: UserWarning: The argument 'infer_datetime_format' is deprecated and will be removed in a future version. A strict version of it is now the default, see https://pandas.pydata.org/pdeps/0004-consistent-to-datetime-parsing.html. You can safely remove this argument.\n",
      "  gasp['TIME'] = pd.to_datetime(gasp['Time'], utc=True, infer_datetime_format=True)\n",
      "C:\\Users\\loren\\AppData\\Local\\Temp\\ipykernel_16304\\798635417.py:1: UserWarning: Parsing dates in %d/%m/%Y format when dayfirst=False (the default) was specified. Pass `dayfirst=True` or specify a format to silence this warning.\n",
      "  gasp['TIME'] = pd.to_datetime(gasp['Time'], utc=True, infer_datetime_format=True)\n"
     ]
    }
   ],
   "source": [
    "gasp['TIME'] = pd.to_datetime(gasp['Time'], utc=True, infer_datetime_format=True)"
   ]
  },
  {
   "cell_type": "code",
   "execution_count": 135,
   "metadata": {},
   "outputs": [],
   "source": [
    "#gasp.T = gasp.T.dt.strftime('%Y-%m-%d %H:%M:%S')"
   ]
  },
  {
   "cell_type": "code",
   "execution_count": null,
   "metadata": {},
   "outputs": [],
   "source": [
    "gasp.index = pd.to_datetime(gasp['TIME'],format='%d/%m/%y')\n",
    "gasp = gasp.groupby(by=[gasp.index.month, gasp.index.year])"
   ]
  },
  {
   "cell_type": "code",
   "execution_count": 140,
   "metadata": {},
   "outputs": [
    {
     "data": {
      "text/html": [
       "<div>\n",
       "<style scoped>\n",
       "    .dataframe tbody tr th:only-of-type {\n",
       "        vertical-align: middle;\n",
       "    }\n",
       "\n",
       "    .dataframe tbody tr th {\n",
       "        vertical-align: top;\n",
       "    }\n",
       "\n",
       "    .dataframe thead th {\n",
       "        text-align: right;\n",
       "    }\n",
       "</style>\n",
       "<table border=\"1\" class=\"dataframe\">\n",
       "  <thead>\n",
       "    <tr style=\"text-align: right;\">\n",
       "      <th></th>\n",
       "      <th>Time</th>\n",
       "      <th>Prices</th>\n",
       "      <th>TIME</th>\n",
       "    </tr>\n",
       "    <tr>\n",
       "      <th>TIME</th>\n",
       "      <th></th>\n",
       "      <th></th>\n",
       "      <th></th>\n",
       "    </tr>\n",
       "  </thead>\n",
       "  <tbody>\n",
       "    <tr>\n",
       "      <th>2024-10-28 00:00:00+00:00</th>\n",
       "      <td>28/10/2024</td>\n",
       "      <td>42.15</td>\n",
       "      <td>2024-10-28 00:00:00+00:00</td>\n",
       "    </tr>\n",
       "    <tr>\n",
       "      <th>2024-10-25 00:00:00+00:00</th>\n",
       "      <td>25/10/2024</td>\n",
       "      <td>42.93</td>\n",
       "      <td>2024-10-25 00:00:00+00:00</td>\n",
       "    </tr>\n",
       "    <tr>\n",
       "      <th>2024-10-24 00:00:00+00:00</th>\n",
       "      <td>24/10/2024</td>\n",
       "      <td>42.08</td>\n",
       "      <td>2024-10-24 00:00:00+00:00</td>\n",
       "    </tr>\n",
       "    <tr>\n",
       "      <th>2024-10-23 00:00:00+00:00</th>\n",
       "      <td>23/10/2024</td>\n",
       "      <td>41.05</td>\n",
       "      <td>2024-10-23 00:00:00+00:00</td>\n",
       "    </tr>\n",
       "    <tr>\n",
       "      <th>2024-10-22 00:00:00+00:00</th>\n",
       "      <td>22/10/2024</td>\n",
       "      <td>40.93</td>\n",
       "      <td>2024-10-22 00:00:00+00:00</td>\n",
       "    </tr>\n",
       "    <tr>\n",
       "      <th>...</th>\n",
       "      <td>...</td>\n",
       "      <td>...</td>\n",
       "      <td>...</td>\n",
       "    </tr>\n",
       "    <tr>\n",
       "      <th>2004-01-30 00:00:00+00:00</th>\n",
       "      <td>30/01/2004</td>\n",
       "      <td>10.65</td>\n",
       "      <td>2004-01-30 00:00:00+00:00</td>\n",
       "    </tr>\n",
       "    <tr>\n",
       "      <th>2004-01-29 00:00:00+00:00</th>\n",
       "      <td>29/01/2004</td>\n",
       "      <td>11.60</td>\n",
       "      <td>2004-01-29 00:00:00+00:00</td>\n",
       "    </tr>\n",
       "    <tr>\n",
       "      <th>2004-01-28 00:00:00+00:00</th>\n",
       "      <td>28/01/2004</td>\n",
       "      <td>12.10</td>\n",
       "      <td>2004-01-28 00:00:00+00:00</td>\n",
       "    </tr>\n",
       "    <tr>\n",
       "      <th>2004-01-27 00:00:00+00:00</th>\n",
       "      <td>27/01/2004</td>\n",
       "      <td>11.70</td>\n",
       "      <td>2004-01-27 00:00:00+00:00</td>\n",
       "    </tr>\n",
       "    <tr>\n",
       "      <th>2004-01-26 00:00:00+00:00</th>\n",
       "      <td>26/01/2004</td>\n",
       "      <td>11.50</td>\n",
       "      <td>2004-01-26 00:00:00+00:00</td>\n",
       "    </tr>\n",
       "  </tbody>\n",
       "</table>\n",
       "<p>1250 rows × 3 columns</p>\n",
       "</div>"
      ],
      "text/plain": [
       "                                 Time  Prices                      TIME\n",
       "TIME                                                                   \n",
       "2024-10-28 00:00:00+00:00  28/10/2024   42.15 2024-10-28 00:00:00+00:00\n",
       "2024-10-25 00:00:00+00:00  25/10/2024   42.93 2024-10-25 00:00:00+00:00\n",
       "2024-10-24 00:00:00+00:00  24/10/2024   42.08 2024-10-24 00:00:00+00:00\n",
       "2024-10-23 00:00:00+00:00  23/10/2024   41.05 2024-10-23 00:00:00+00:00\n",
       "2024-10-22 00:00:00+00:00  22/10/2024   40.93 2024-10-22 00:00:00+00:00\n",
       "...                               ...     ...                       ...\n",
       "2004-01-30 00:00:00+00:00  30/01/2004   10.65 2004-01-30 00:00:00+00:00\n",
       "2004-01-29 00:00:00+00:00  29/01/2004   11.60 2004-01-29 00:00:00+00:00\n",
       "2004-01-28 00:00:00+00:00  28/01/2004   12.10 2004-01-28 00:00:00+00:00\n",
       "2004-01-27 00:00:00+00:00  27/01/2004   11.70 2004-01-27 00:00:00+00:00\n",
       "2004-01-26 00:00:00+00:00  26/01/2004   11.50 2004-01-26 00:00:00+00:00\n",
       "\n",
       "[1250 rows x 3 columns]"
      ]
     },
     "execution_count": 140,
     "metadata": {},
     "output_type": "execute_result"
    }
   ],
   "source": [
    "gasp.head()"
   ]
  }
 ],
 "metadata": {
  "kernelspec": {
   "display_name": ".venv",
   "language": "python",
   "name": "python3"
  },
  "language_info": {
   "codemirror_mode": {
    "name": "ipython",
    "version": 3
   },
   "file_extension": ".py",
   "mimetype": "text/x-python",
   "name": "python",
   "nbconvert_exporter": "python",
   "pygments_lexer": "ipython3",
   "version": "3.13.0"
  }
 },
 "nbformat": 4,
 "nbformat_minor": 2
}
