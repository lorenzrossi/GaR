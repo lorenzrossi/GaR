{
 "cells": [
  {
   "cell_type": "code",
   "execution_count": 4,
   "metadata": {},
   "outputs": [],
   "source": [
    "import requests\n",
    "import pandas as pd\n",
    "import numpy as np\n",
    "#import eurostat\n",
    "import json\n",
    "import os\n",
    "import datetime as dt"
   ]
  },
  {
   "cell_type": "code",
   "execution_count": 6,
   "metadata": {},
   "outputs": [
    {
     "name": "stdout",
     "output_type": "stream",
     "text": [
      "Working directory: /Users/lorenz/Library/CloudStorage/OneDrive-UniversitàdegliStudidiMilano/PhD/Progetto/GaR/src\n"
     ]
    }
   ],
   "source": [
    "import os\n",
    "print(\"Working directory:\", os.getcwd())"
   ]
  },
  {
   "cell_type": "code",
   "execution_count": null,
   "metadata": {},
   "outputs": [],
   "source": [
    "os.chdir('\\\\Users\\\\lorenz\\\\Library\\\\CloudStorage\\\\OneDrive-UniversitàdegliStudidiMilano\\\\PhD\\\\Progetto\\\\GaR\\\\src')\n",
    "path = 'data'"
   ]
  },
  {
   "cell_type": "code",
   "execution_count": 7,
   "metadata": {},
   "outputs": [],
   "source": [
    "# IMPORT INDUSTRIAL PRODUCTION (IP) DATA \n",
    "\n",
    "ip = pd.read_csv(\"ip_by_sector.csv\")\n",
    "\n",
    "ip = ip[['nace_r2', 'geo', 'TIME_PERIOD', 'OBS_VALUE', 'unit']]\n",
    "\n",
    "ip['Time'] = ip['TIME_PERIOD']\n",
    "\n",
    "#ip['Time'] = pd.to_datetime(ip['Time'], format=\"%Y-%m\")    \n",
    "\n",
    "#ip['Time'] = ip['Time'].dt.strftime('%Y/%m')\n",
    "\n",
    "ip.set_index('Time', inplace=True)"
   ]
  },
  {
   "cell_type": "code",
   "execution_count": 52,
   "metadata": {},
   "outputs": [
    {
     "data": {
      "text/html": [
       "<div>\n",
       "<style scoped>\n",
       "    .dataframe tbody tr th:only-of-type {\n",
       "        vertical-align: middle;\n",
       "    }\n",
       "\n",
       "    .dataframe tbody tr th {\n",
       "        vertical-align: top;\n",
       "    }\n",
       "\n",
       "    .dataframe thead th {\n",
       "        text-align: right;\n",
       "    }\n",
       "</style>\n",
       "<table border=\"1\" class=\"dataframe\">\n",
       "  <thead>\n",
       "    <tr style=\"text-align: right;\">\n",
       "      <th></th>\n",
       "      <th>Prices</th>\n",
       "    </tr>\n",
       "    <tr>\n",
       "      <th>Time</th>\n",
       "      <th></th>\n",
       "    </tr>\n",
       "  </thead>\n",
       "  <tbody>\n",
       "    <tr>\n",
       "      <th>2004-01</th>\n",
       "      <td>11.360000</td>\n",
       "    </tr>\n",
       "    <tr>\n",
       "      <th>2004-02</th>\n",
       "      <td>10.797500</td>\n",
       "    </tr>\n",
       "    <tr>\n",
       "      <th>2004-03</th>\n",
       "      <td>10.900435</td>\n",
       "    </tr>\n",
       "    <tr>\n",
       "      <th>2004-04</th>\n",
       "      <td>10.974545</td>\n",
       "    </tr>\n",
       "    <tr>\n",
       "      <th>2004-05</th>\n",
       "      <td>11.221905</td>\n",
       "    </tr>\n",
       "    <tr>\n",
       "      <th>...</th>\n",
       "      <td>...</td>\n",
       "    </tr>\n",
       "    <tr>\n",
       "      <th>2023-08</th>\n",
       "      <td>33.523043</td>\n",
       "    </tr>\n",
       "    <tr>\n",
       "      <th>2023-09</th>\n",
       "      <td>36.527619</td>\n",
       "    </tr>\n",
       "    <tr>\n",
       "      <th>2023-10</th>\n",
       "      <td>43.264545</td>\n",
       "    </tr>\n",
       "    <tr>\n",
       "      <th>2023-11</th>\n",
       "      <td>43.269091</td>\n",
       "    </tr>\n",
       "    <tr>\n",
       "      <th>2023-12</th>\n",
       "      <td>35.318571</td>\n",
       "    </tr>\n",
       "  </tbody>\n",
       "</table>\n",
       "<p>240 rows × 1 columns</p>\n",
       "</div>"
      ],
      "text/plain": [
       "            Prices\n",
       "Time              \n",
       "2004-01  11.360000\n",
       "2004-02  10.797500\n",
       "2004-03  10.900435\n",
       "2004-04  10.974545\n",
       "2004-05  11.221905\n",
       "...            ...\n",
       "2023-08  33.523043\n",
       "2023-09  36.527619\n",
       "2023-10  43.264545\n",
       "2023-11  43.269091\n",
       "2023-12  35.318571\n",
       "\n",
       "[240 rows x 1 columns]"
      ]
     },
     "execution_count": 52,
     "metadata": {},
     "output_type": "execute_result"
    }
   ],
   "source": [
    "# IMPORT GAS PRICES DATA \n",
    "\n",
    "gasp = pd.read_csv(os.path.join(path, \"gas_data.csv\"))\n",
    "\n",
    "gasp[['Prices']] = gasp[['LSG Natural Gas TTF NL 1st Fut. Day - SETT. PRICE']]\n",
    "\n",
    "gasp = gasp[['Time','Prices']]\n",
    "\n",
    "gasp['Time'] = pd.to_datetime(gasp['Time'], format=\"%m/%d/%y\")\n",
    "\n",
    "month_gasp = gasp.groupby(gasp['Time'].dt.to_period('M')).mean() # group data and make monthly average to match IP data\n",
    "\n",
    "month_gasp = month_gasp.drop(columns=['Time'])\n",
    "\n",
    "month_gasp.loc['2004-01':'2023-12']"
   ]
  },
  {
   "cell_type": "code",
   "execution_count": 53,
   "metadata": {},
   "outputs": [
    {
     "name": "stderr",
     "output_type": "stream",
     "text": [
      "C:\\Users\\loren\\AppData\\Local\\Temp\\ipykernel_44280\\3386429221.py:15: SettingWithCopyWarning: \n",
      "A value is trying to be set on a copy of a slice from a DataFrame.\n",
      "Try using .loc[row_indexer,col_indexer] = value instead\n",
      "\n",
      "See the caveats in the documentation: https://pandas.pydata.org/pandas-docs/stable/user_guide/indexing.html#returning-a-view-versus-a-copy\n",
      "  df_ue_c21['GAS_PRICE'] = month_gasp['Prices']\n"
     ]
    }
   ],
   "source": [
    "df = ip.drop(columns=['TIME_PERIOD'])\n",
    "\n",
    "df['geo'] = df['geo'].astype('category')\n",
    "\n",
    "df['nace_r2'] = df['nace_r2'].astype('category')\n",
    "\n",
    "df['unit'] = df['unit'].astype('category')\n",
    "\n",
    "df_ue = df[df['geo'] == 'EU27_2020']\n",
    "\n",
    "df_ue_c = df_ue[df_ue['nace_r2'] == 'C']\n",
    "\n",
    "df_ue_c21 = df_ue_c[df_ue_c['unit'] == 'I15']\n",
    "\n",
    "df_ue_c21['GAS_PRICE'] = month_gasp['Prices']"
   ]
  },
  {
   "cell_type": "code",
   "execution_count": 54,
   "metadata": {},
   "outputs": [],
   "source": [
    "df_ue_c21.to_csv(os.path.join(path, \"sample_df.csv\"))"
   ]
  }
 ],
 "metadata": {
  "kernelspec": {
   "display_name": "Python 3",
   "language": "python",
   "name": "python3"
  },
  "language_info": {
   "codemirror_mode": {
    "name": "ipython",
    "version": 3
   },
   "file_extension": ".py",
   "mimetype": "text/x-python",
   "name": "python",
   "nbconvert_exporter": "python",
   "pygments_lexer": "ipython3",
   "version": "3.13.2"
  }
 },
 "nbformat": 4,
 "nbformat_minor": 2
}
