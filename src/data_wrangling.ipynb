{
 "cells": [
  {
   "cell_type": "code",
   "execution_count": 39,
   "metadata": {},
   "outputs": [],
   "source": [
    "import requests\n",
    "import pandas as pd\n",
    "import numpy as np\n",
    "#import eurostat\n",
    "import json\n",
    "import os\n",
    "import datetime as dt"
   ]
  },
  {
   "cell_type": "code",
   "execution_count": 40,
   "metadata": {},
   "outputs": [],
   "source": [
    "os.chdir('C:\\\\Users\\\\loren\\\\OneDrive\\\\Desktop\\\\PhD\\\\Progetto\\\\python\\\\')\n",
    "path = 'data'"
   ]
  },
  {
   "cell_type": "code",
   "execution_count": 60,
   "metadata": {},
   "outputs": [],
   "source": [
    "ip = pd.read_csv(os.path.join(path, \"ip_data.csv\"))\n",
    "#ip.Time = ip.TIME_PERIOD.dt.strftime('%d-%m-%Y')  \n",
    "\n",
    "ip = ip[['nace_r2', 'geo', 'TIME_PERIOD', 'OBS_VALUE', 'unit']]\n",
    "ip['Time'] = ip['TIME_PERIOD']\n",
    "\n",
    "#ip['Time'] = pd.to_datetime(ip['Time'], format=\"%Y-%m\")    \n",
    "#\n",
    "#ip['Time'] = ip['Time'].dt.strftime('%Y/%m')\n",
    "\n",
    "#ip.set_index('Time', inplace=True)"
   ]
  },
  {
   "cell_type": "code",
   "execution_count": 61,
   "metadata": {},
   "outputs": [],
   "source": [
    "ip.set_index('Time', inplace=True)"
   ]
  },
  {
   "cell_type": "code",
   "execution_count": 63,
   "metadata": {},
   "outputs": [],
   "source": [
    "gasp = pd.read_csv(os.path.join(path, \"gas_data.csv\"))"
   ]
  },
  {
   "cell_type": "code",
   "execution_count": 64,
   "metadata": {},
   "outputs": [],
   "source": [
    "gasp[['Prices']] = gasp[['LSG Natural Gas TTF NL 1st Fut. Day - SETT. PRICE']]"
   ]
  },
  {
   "cell_type": "code",
   "execution_count": 65,
   "metadata": {},
   "outputs": [],
   "source": [
    "gasp = gasp[['Time','Prices']]"
   ]
  },
  {
   "cell_type": "code",
   "execution_count": 66,
   "metadata": {},
   "outputs": [],
   "source": [
    "gasp['Time'] = pd.to_datetime(gasp['Time'], format=\"%m/%d/%y\")"
   ]
  },
  {
   "cell_type": "code",
   "execution_count": 67,
   "metadata": {},
   "outputs": [],
   "source": [
    "month_gasp = gasp.groupby(gasp['Time'].dt.to_period('M')).mean()"
   ]
  },
  {
   "cell_type": "code",
   "execution_count": 68,
   "metadata": {},
   "outputs": [],
   "source": [
    "df = ip.drop(columns=['TIME_PERIOD'])"
   ]
  },
  {
   "cell_type": "code",
   "execution_count": 71,
   "metadata": {},
   "outputs": [],
   "source": [
    "df['geo'] = df['geo'].astype('category')\n",
    "df['nace_r2'] = df['nace_r2'].astype('category')\n",
    "df['unit'] = df['unit'].astype('category')"
   ]
  },
  {
   "cell_type": "code",
   "execution_count": 75,
   "metadata": {},
   "outputs": [],
   "source": [
    "df_ue = df[df['geo'] == 'EU27_2020']"
   ]
  },
  {
   "cell_type": "code",
   "execution_count": 76,
   "metadata": {},
   "outputs": [],
   "source": [
    "df_ue_c = df_ue[df_ue['nace_r2'] == 'C']"
   ]
  },
  {
   "cell_type": "code",
   "execution_count": 80,
   "metadata": {},
   "outputs": [],
   "source": [
    "df_ue_c21 = df_ue_c[df_ue_c['unit'] == 'I21']"
   ]
  },
  {
   "cell_type": "code",
   "execution_count": null,
   "metadata": {},
   "outputs": [],
   "source": [
    "#mg = gasp\n",
    "#mg.set_index('Time', inplace=True)\n",
    "#mg1 = mg.groupby(pd.Grouper(freq='ME')).mean()"
   ]
  },
  {
   "cell_type": "code",
   "execution_count": 86,
   "metadata": {},
   "outputs": [
    {
     "name": "stdout",
     "output_type": "stream",
     "text": [
      "        nace_r2        geo  OBS_VALUE unit\n",
      "Time                                      \n",
      "2004-01       C  EU27_2020       84.5  I21\n",
      "2004-02       C  EU27_2020       85.3  I21\n",
      "2004-03       C  EU27_2020       85.0  I21\n",
      "2004-04       C  EU27_2020       86.0  I21\n",
      "2004-05       C  EU27_2020       86.0  I21\n",
      "...         ...        ...        ...  ...\n",
      "2024-04       C  EU27_2020      100.5  I21\n",
      "2024-05       C  EU27_2020       99.4  I21\n",
      "2024-06       C  EU27_2020       99.5  I21\n",
      "2024-07       C  EU27_2020       98.7  I21\n",
      "2024-08       C  EU27_2020       99.9  I21\n",
      "\n",
      "[248 rows x 4 columns]\n"
     ]
    }
   ],
   "source": [
    "print(df_ue_c21)"
   ]
  }
 ],
 "metadata": {
  "kernelspec": {
   "display_name": ".venv",
   "language": "python",
   "name": "python3"
  },
  "language_info": {
   "codemirror_mode": {
    "name": "ipython",
    "version": 3
   },
   "file_extension": ".py",
   "mimetype": "text/x-python",
   "name": "python",
   "nbconvert_exporter": "python",
   "pygments_lexer": "ipython3",
   "version": "3.13.0"
  }
 },
 "nbformat": 4,
 "nbformat_minor": 2
}
