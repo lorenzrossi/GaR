{
 "cells": [
  {
   "cell_type": "code",
   "execution_count": 44,
   "metadata": {},
   "outputs": [],
   "source": [
    "import requests\n",
    "import pandas as pd\n",
    "import numpy as np\n",
    "#import eurostat\n",
    "import json\n",
    "import os\n",
    "import datetime as dt\n",
    "import openpyxl"
   ]
  },
  {
   "cell_type": "code",
   "execution_count": 45,
   "metadata": {},
   "outputs": [
    {
     "name": "stdout",
     "output_type": "stream",
     "text": [
      "Working directory: /Users/lorenz/Projects/GaR/src\n"
     ]
    }
   ],
   "source": [
    "import os\n",
    "print(\"Working directory:\", os.getcwd())"
   ]
  },
  {
   "cell_type": "code",
   "execution_count": 74,
   "metadata": {},
   "outputs": [],
   "source": [
    "os.chdir('/Users/lorenz/Projects/GaR/')\n",
    "path = 'src/'\n",
    "data = 'data/'"
   ]
  },
  {
   "cell_type": "code",
   "execution_count": 75,
   "metadata": {},
   "outputs": [],
   "source": [
    "# IMPORT INDUSTRIAL PRODUCTION (IP) DATA \n",
    "\n",
    "ip = pd.read_csv(os.path.join(path,\"ip_by_sector.csv\"))\n",
    "\n",
    "ip = ip[['nace_r2', 'geo', 'TIME_PERIOD', 'OBS_VALUE', 'unit']]\n",
    "\n",
    "ip['Time'] = ip['TIME_PERIOD']\n",
    "\n",
    "#ip['Time'] = pd.to_datetime(ip['Time'], format=\"%Y-%m\")    \n",
    "\n",
    "#ip['Time'] = ip['Time'].dt.strftime('%Y/%m')\n",
    "\n",
    "ip.set_index('Time', inplace=True)"
   ]
  },
  {
   "cell_type": "code",
   "execution_count": 48,
   "metadata": {},
   "outputs": [
    {
     "data": {
      "application/vnd.microsoft.datawrangler.viewer.v0+json": {
       "columns": [
        {
         "name": "Time",
         "rawType": "period[M]",
         "type": "unknown"
        },
        {
         "name": "Prices",
         "rawType": "float64",
         "type": "float"
        }
       ],
       "ref": "3bcc7f24-0044-48f7-9662-6e57bfb7554e",
       "rows": [
        [
         "2004-01",
         "11.36"
        ],
        [
         "2004-02",
         "10.7975"
        ],
        [
         "2004-03",
         "10.900434782608697"
        ],
        [
         "2004-04",
         "10.974545454545455"
        ],
        [
         "2004-05",
         "11.221904761904762"
        ],
        [
         "2004-06",
         "10.607727272727272"
        ],
        [
         "2004-07",
         "10.656818181818181"
        ],
        [
         "2004-08",
         "12.030909090909091"
        ],
        [
         "2004-09",
         "12.784999999999998"
        ],
        [
         "2004-10",
         "12.065238095238096"
        ],
        [
         "2004-11",
         "12.959545454545456"
        ],
        [
         "2004-12",
         "14.537391304347826"
        ],
        [
         "2005-01",
         "14.123333333333331"
        ],
        [
         "2005-02",
         "16.8315"
        ],
        [
         "2005-03",
         "18.585217391304347"
        ],
        [
         "2005-04",
         "14.80857142857143"
        ],
        [
         "2005-05",
         "14.289090909090909"
        ],
        [
         "2005-06",
         "14.356363636363636"
        ],
        [
         "2005-07",
         "15.540952380952382"
        ],
        [
         "2005-08",
         "15.107826086956523"
        ],
        [
         "2005-09",
         "14.746363636363638"
        ],
        [
         "2005-10",
         "15.534761904761906"
        ],
        [
         "2005-11",
         "19.15909090909091"
        ],
        [
         "2005-12",
         "22.903636363636362"
        ],
        [
         "2006-01",
         "25.694999999999997"
        ],
        [
         "2006-02",
         "22.324"
        ],
        [
         "2006-03",
         "26.028260869565216"
        ],
        [
         "2006-04",
         "21.387999999999998"
        ],
        [
         "2006-05",
         "19.692608695652176"
        ],
        [
         "2006-06",
         "19.58409090909091"
        ],
        [
         "2006-07",
         "19.847619047619048"
        ],
        [
         "2006-08",
         "17.97826086956522"
        ],
        [
         "2006-09",
         "15.951428571428572"
        ],
        [
         "2006-10",
         "14.200454545454546"
        ],
        [
         "2006-11",
         "19.87272727272727"
        ],
        [
         "2006-12",
         "16.45809523809524"
        ],
        [
         "2007-01",
         "13.603478260869565"
        ],
        [
         "2007-02",
         "9.310500000000001"
        ],
        [
         "2007-03",
         "10.338636363636363"
        ],
        [
         "2007-04",
         "8.91904761904762"
        ],
        [
         "2007-05",
         "11.71391304347826"
        ],
        [
         "2007-06",
         "10.586190476190476"
        ],
        [
         "2007-07",
         "14.946363636363635"
        ],
        [
         "2007-08",
         "14.281304347826088"
        ],
        [
         "2007-09",
         "17.057"
        ],
        [
         "2007-10",
         "20.13478260869565"
        ],
        [
         "2007-11",
         "22.223636363636363"
        ],
        [
         "2007-12",
         "23.133333333333333"
        ],
        [
         "2008-01",
         "24.26347826086956"
        ],
        [
         "2008-02",
         "22.760952380952382"
        ]
       ],
       "shape": {
        "columns": 1,
        "rows": 240
       }
      },
      "text/html": [
       "<div>\n",
       "<style scoped>\n",
       "    .dataframe tbody tr th:only-of-type {\n",
       "        vertical-align: middle;\n",
       "    }\n",
       "\n",
       "    .dataframe tbody tr th {\n",
       "        vertical-align: top;\n",
       "    }\n",
       "\n",
       "    .dataframe thead th {\n",
       "        text-align: right;\n",
       "    }\n",
       "</style>\n",
       "<table border=\"1\" class=\"dataframe\">\n",
       "  <thead>\n",
       "    <tr style=\"text-align: right;\">\n",
       "      <th></th>\n",
       "      <th>Prices</th>\n",
       "    </tr>\n",
       "    <tr>\n",
       "      <th>Time</th>\n",
       "      <th></th>\n",
       "    </tr>\n",
       "  </thead>\n",
       "  <tbody>\n",
       "    <tr>\n",
       "      <th>2004-01</th>\n",
       "      <td>11.360000</td>\n",
       "    </tr>\n",
       "    <tr>\n",
       "      <th>2004-02</th>\n",
       "      <td>10.797500</td>\n",
       "    </tr>\n",
       "    <tr>\n",
       "      <th>2004-03</th>\n",
       "      <td>10.900435</td>\n",
       "    </tr>\n",
       "    <tr>\n",
       "      <th>2004-04</th>\n",
       "      <td>10.974545</td>\n",
       "    </tr>\n",
       "    <tr>\n",
       "      <th>2004-05</th>\n",
       "      <td>11.221905</td>\n",
       "    </tr>\n",
       "    <tr>\n",
       "      <th>...</th>\n",
       "      <td>...</td>\n",
       "    </tr>\n",
       "    <tr>\n",
       "      <th>2023-08</th>\n",
       "      <td>33.523043</td>\n",
       "    </tr>\n",
       "    <tr>\n",
       "      <th>2023-09</th>\n",
       "      <td>36.527619</td>\n",
       "    </tr>\n",
       "    <tr>\n",
       "      <th>2023-10</th>\n",
       "      <td>43.264545</td>\n",
       "    </tr>\n",
       "    <tr>\n",
       "      <th>2023-11</th>\n",
       "      <td>43.269091</td>\n",
       "    </tr>\n",
       "    <tr>\n",
       "      <th>2023-12</th>\n",
       "      <td>35.318571</td>\n",
       "    </tr>\n",
       "  </tbody>\n",
       "</table>\n",
       "<p>240 rows × 1 columns</p>\n",
       "</div>"
      ],
      "text/plain": [
       "            Prices\n",
       "Time              \n",
       "2004-01  11.360000\n",
       "2004-02  10.797500\n",
       "2004-03  10.900435\n",
       "2004-04  10.974545\n",
       "2004-05  11.221905\n",
       "...            ...\n",
       "2023-08  33.523043\n",
       "2023-09  36.527619\n",
       "2023-10  43.264545\n",
       "2023-11  43.269091\n",
       "2023-12  35.318571\n",
       "\n",
       "[240 rows x 1 columns]"
      ]
     },
     "execution_count": 48,
     "metadata": {},
     "output_type": "execute_result"
    }
   ],
   "source": [
    "# IMPORT GAS PRICES DATA \n",
    "\n",
    "gasp = pd.read_csv(\"gas_data.csv\")\n",
    "\n",
    "gasp[['Prices']] = gasp[['LSG Natural Gas TTF NL 1st Fut. Day - SETT. PRICE']]\n",
    "\n",
    "gasp = gasp[['Time','Prices']]\n",
    "\n",
    "gasp['Time'] = pd.to_datetime(gasp['Time'], format=\"%m/%d/%y\")\n",
    "\n",
    "month_gasp = gasp.groupby(gasp['Time'].dt.to_period('M')).mean() # group data and make monthly average to match IP data\n",
    "\n",
    "month_gasp = month_gasp.drop(columns=['Time'])\n",
    "\n",
    "month_gasp.loc['2004-01':'2023-12']"
   ]
  },
  {
   "cell_type": "code",
   "execution_count": 49,
   "metadata": {},
   "outputs": [],
   "source": [
    "df = ip.drop(columns=['TIME_PERIOD'])\n",
    "\n",
    "#df = ip.drop(columns=['TIME_PERIOD']).copy()\n",
    "#df.index = pd.to_datetime(df.index)\n",
    "#df.reset_index(inplace=True)\n",
    "\n",
    "df['geo'] = df['geo'].astype('category')\n",
    "\n",
    "df['nace_r2'] = df['nace_r2'].astype('category')\n",
    "\n",
    "df['unit'] = df['unit'].astype('category')\n",
    "\n",
    "df_ue = df[df['geo'] == 'European Union - 27 countries (from 2020)']\n",
    "\n",
    "df_ue_c = df_ue[df_ue['nace_r2'] == 'Manufacturing']\n",
    "\n",
    "df_final = df_ue_c[df_ue_c['unit'] == 'Index, 2021=100']\n",
    "\n",
    "#df_final = df_final[(df_final['Time'] >= \"2004-01\") & (df_final['Date'] <= \"2023-12\")]\n",
    "\n",
    "\n",
    "df_final = df_final.loc['2004-01':'2023-12']\n",
    "df_final['GAS_PRICE'] = month_gasp['Prices']"
   ]
  },
  {
   "cell_type": "code",
   "execution_count": 51,
   "metadata": {},
   "outputs": [],
   "source": [
    "# Load oil supply news shocks from the 'Monthly' sheet\n",
    "oil_df = pd.read_excel(\"oilSupplyNewsShocks_2024M06.xlsx\", sheet_name=\"Monthly\")\n",
    "\n",
    "# Convert 'Date' from 'YYYYMM' string to datetime\n",
    "#oil_df['Date'] = pd.to_datetime(oil_df['Date'], format=\"%YM%m\")\n",
    "oil_df['Date'] = pd.to_datetime(oil_df['Date'].str.replace(\"M\", \"\"), format=\"%Y%m\")\n",
    "\n",
    "# Filter between Jan 2004 and Dec 2023\n",
    "oil_df = oil_df[(oil_df['Date'] >= \"2004-01-01\") & (oil_df['Date'] <= \"2023-12-31\")]\n",
    "\n",
    "# Rename for merge compatibility\n",
    "oil_df = oil_df.rename(columns={\"Date\": \"Time\"})"
   ]
  },
  {
   "cell_type": "code",
   "execution_count": 52,
   "metadata": {},
   "outputs": [],
   "source": [
    "oil_df = oil_df.groupby(oil_df['Time'].dt.to_period('M')).mean()"
   ]
  },
  {
   "cell_type": "code",
   "execution_count": 53,
   "metadata": {},
   "outputs": [
    {
     "data": {
      "application/vnd.microsoft.datawrangler.viewer.v0+json": {
       "columns": [
        {
         "name": "Time",
         "rawType": "period[M]",
         "type": "unknown"
        },
        {
         "name": "OilSurprise",
         "rawType": "float64",
         "type": "float"
        },
        {
         "name": "OilNewsShock",
         "rawType": "float64",
         "type": "float"
        }
       ],
       "ref": "bffdead9-73aa-4e93-aa3a-069d665be26b",
       "rows": [
        [
         "2004-01",
         "0.0",
         "0.44154017195044576"
        ],
        [
         "2004-02",
         "2.694076911628696",
         "-0.08581088034809001"
        ],
        [
         "2004-03",
         "-0.667869132781252",
         "0.2813203494904621"
        ],
        [
         "2004-04",
         "0.0",
         "-0.6033863591783445"
        ],
        [
         "2004-05",
         "0.0",
         "0.5969780334499486"
        ],
        [
         "2004-06",
         "-0.8697021883599181",
         "-0.0108376887124877"
        ],
        [
         "2004-07",
         "0.0",
         "-0.18225670383212336"
        ],
        [
         "2004-08",
         "0.0",
         "0.41307128781677527"
        ],
        [
         "2004-09",
         "-1.6071356282661176",
         "0.020228290770040784"
        ],
        [
         "2004-10",
         "0.0",
         "0.8379242805985881"
        ],
        [
         "2004-11",
         "0.0",
         "-0.22862171681724705"
        ],
        [
         "2004-12",
         "-3.1596202022297115",
         "-0.8713033012256369"
        ],
        [
         "2005-01",
         "2.159954265104334",
         "0.2661415106984759"
        ],
        [
         "2005-02",
         "0.0",
         "0.33553585232891664"
        ],
        [
         "2005-03",
         "3.0421593263989704",
         "0.5751930208570617"
        ],
        [
         "2005-04",
         "0.0",
         "-0.5666684540474421"
        ],
        [
         "2005-05",
         "0.0",
         "-0.10846214234396483"
        ],
        [
         "2005-06",
         "0.3374585671050337",
         "0.503989891285571"
        ],
        [
         "2005-07",
         "0.0",
         "0.563468443674944"
        ],
        [
         "2005-08",
         "0.0",
         "0.718752317958703"
        ],
        [
         "2005-09",
         "-1.6643240899907965",
         "1.1148474280757803"
        ],
        [
         "2005-10",
         "0.0",
         "-1.0533079897254418"
        ],
        [
         "2005-11",
         "0.0",
         "-1.2341397270208476"
        ],
        [
         "2005-12",
         "2.9526028347999587",
         "-0.03924653272715153"
        ],
        [
         "2006-01",
         "-0.15180339953147387",
         "0.19348656521120655"
        ],
        [
         "2006-02",
         "0.0",
         "-0.6518974343740799"
        ],
        [
         "2006-03",
         "-1.827456416166897",
         "-0.07863751143875931"
        ],
        [
         "2006-04",
         "0.0",
         "0.6237237514902355"
        ],
        [
         "2006-05",
         "0.0",
         "-0.3540726086115883"
        ],
        [
         "2006-06",
         "-1.1833322763183536",
         "-0.31545669169778073"
        ],
        [
         "2006-07",
         "0.0",
         "0.28310573574819875"
        ],
        [
         "2006-08",
         "0.0",
         "-0.1782674258490434"
        ],
        [
         "2006-09",
         "-1.1265879387430244",
         "-1.0773599355773278"
        ],
        [
         "2006-10",
         "-1.0147867419479089",
         "-0.713482353040865"
        ],
        [
         "2006-11",
         "0.0",
         "-0.6336040683167151"
        ],
        [
         "2006-12",
         "1.7594994847040366",
         "0.06279864252157119"
        ],
        [
         "2007-01",
         "0.0",
         "-0.8815456486489374"
        ],
        [
         "2007-02",
         "0.0",
         "0.5012149220613668"
        ],
        [
         "2007-03",
         "-0.689195928658093",
         "0.001407425353364094"
        ],
        [
         "2007-04",
         "0.0",
         "0.23160567911181562"
        ],
        [
         "2007-05",
         "0.0",
         "-0.29762578435044224"
        ],
        [
         "2007-06",
         "0.0",
         "0.16535936703141824"
        ],
        [
         "2007-07",
         "0.0",
         "0.18880782596297765"
        ],
        [
         "2007-08",
         "0.0",
         "-0.5681005018139146"
        ],
        [
         "2007-09",
         "1.1859376565060231",
         "1.0001793364551819"
        ],
        [
         "2007-10",
         "0.0",
         "0.10198579635873983"
        ],
        [
         "2007-11",
         "0.0",
         "0.6128810878526092"
        ],
        [
         "2007-12",
         "-0.831933850195447",
         "-0.28925766272037334"
        ],
        [
         "2008-01",
         "0.0",
         "-0.13761859893639725"
        ],
        [
         "2008-02",
         "-2.502179452682496",
         "0.2608943406309443"
        ]
       ],
       "shape": {
        "columns": 2,
        "rows": 240
       }
      },
      "text/html": [
       "<div>\n",
       "<style scoped>\n",
       "    .dataframe tbody tr th:only-of-type {\n",
       "        vertical-align: middle;\n",
       "    }\n",
       "\n",
       "    .dataframe tbody tr th {\n",
       "        vertical-align: top;\n",
       "    }\n",
       "\n",
       "    .dataframe thead th {\n",
       "        text-align: right;\n",
       "    }\n",
       "</style>\n",
       "<table border=\"1\" class=\"dataframe\">\n",
       "  <thead>\n",
       "    <tr style=\"text-align: right;\">\n",
       "      <th></th>\n",
       "      <th>OilSurprise</th>\n",
       "      <th>OilNewsShock</th>\n",
       "    </tr>\n",
       "    <tr>\n",
       "      <th>Time</th>\n",
       "      <th></th>\n",
       "      <th></th>\n",
       "    </tr>\n",
       "  </thead>\n",
       "  <tbody>\n",
       "    <tr>\n",
       "      <th>2004-01</th>\n",
       "      <td>0.000000</td>\n",
       "      <td>0.441540</td>\n",
       "    </tr>\n",
       "    <tr>\n",
       "      <th>2004-02</th>\n",
       "      <td>2.694077</td>\n",
       "      <td>-0.085811</td>\n",
       "    </tr>\n",
       "    <tr>\n",
       "      <th>2004-03</th>\n",
       "      <td>-0.667869</td>\n",
       "      <td>0.281320</td>\n",
       "    </tr>\n",
       "    <tr>\n",
       "      <th>2004-04</th>\n",
       "      <td>0.000000</td>\n",
       "      <td>-0.603386</td>\n",
       "    </tr>\n",
       "    <tr>\n",
       "      <th>2004-05</th>\n",
       "      <td>0.000000</td>\n",
       "      <td>0.596978</td>\n",
       "    </tr>\n",
       "    <tr>\n",
       "      <th>...</th>\n",
       "      <td>...</td>\n",
       "      <td>...</td>\n",
       "    </tr>\n",
       "    <tr>\n",
       "      <th>2023-08</th>\n",
       "      <td>0.000000</td>\n",
       "      <td>0.263434</td>\n",
       "    </tr>\n",
       "    <tr>\n",
       "      <th>2023-09</th>\n",
       "      <td>0.000000</td>\n",
       "      <td>0.470927</td>\n",
       "    </tr>\n",
       "    <tr>\n",
       "      <th>2023-10</th>\n",
       "      <td>0.000000</td>\n",
       "      <td>-0.165344</td>\n",
       "    </tr>\n",
       "    <tr>\n",
       "      <th>2023-11</th>\n",
       "      <td>-2.465149</td>\n",
       "      <td>-0.571545</td>\n",
       "    </tr>\n",
       "    <tr>\n",
       "      <th>2023-12</th>\n",
       "      <td>0.000000</td>\n",
       "      <td>0.011209</td>\n",
       "    </tr>\n",
       "  </tbody>\n",
       "</table>\n",
       "<p>240 rows × 2 columns</p>\n",
       "</div>"
      ],
      "text/plain": [
       "         OilSurprise  OilNewsShock\n",
       "Time                              \n",
       "2004-01     0.000000      0.441540\n",
       "2004-02     2.694077     -0.085811\n",
       "2004-03    -0.667869      0.281320\n",
       "2004-04     0.000000     -0.603386\n",
       "2004-05     0.000000      0.596978\n",
       "...              ...           ...\n",
       "2023-08     0.000000      0.263434\n",
       "2023-09     0.000000      0.470927\n",
       "2023-10     0.000000     -0.165344\n",
       "2023-11    -2.465149     -0.571545\n",
       "2023-12     0.000000      0.011209\n",
       "\n",
       "[240 rows x 2 columns]"
      ]
     },
     "execution_count": 53,
     "metadata": {},
     "output_type": "execute_result"
    }
   ],
   "source": [
    "cols = [0]\n",
    "oil_fixed = oil_df.drop(oil_df.columns[cols], axis=1)\n",
    "oil_fixed = oil_fixed.rename(columns={\"Oil supply surprise series\": \"OilSurprise\"})\n",
    "oil_fixed = oil_fixed.rename(columns={\"Oil supply news shock\": \"OilNewsShock\"})\n",
    "#oil_fixed[['OilSurprise']] = oil_df[['Oil supply surprise series']]\n",
    "#oil_fixed[['OilNewsShock']] = oil_df[['Oil supply news shock']]\n",
    "oil_fixed"
   ]
  },
  {
   "cell_type": "code",
   "execution_count": 54,
   "metadata": {},
   "outputs": [],
   "source": [
    "df_final['OilNewsShock'] = oil_fixed['OilNewsShock']\n",
    "df_final['OilSurprise'] = oil_fixed['OilSurprise']"
   ]
  },
  {
   "cell_type": "code",
   "execution_count": null,
   "metadata": {},
   "outputs": [],
   "source": [
    "# Step 1: Load the Brent Excel\n",
    "brent_df = pd.read_excel(\"brenteu.xlsx\", sheet_name=\"Foglio1\")\n",
    "\n",
    "# Step 2: Prepare Brent data\n",
    "brent_df['Date'] = pd.to_datetime(brent_df['Date'])\n",
    "brent_df = brent_df.rename(columns={'Europe Brent Spot FOB U$/BBL Daily': 'BRENT_PRICE'})\n",
    "\n",
    "# Step 3: Monthly average\n",
    "brent_monthly = brent_df.groupby(brent_df['Date'].dt.to_period('M')).mean(numeric_only=True)\n",
    "\n",
    "#brent_monthly.index = brent_monthly.index.to_timestamp()\n",
    "brent_monthly = brent_monthly.loc['2004-01':'2023-12']\n",
    "brent_monthly = brent_monthly.rename(columns={'Date': 'Time'})\n",
    "brent_monthly.index = brent_monthly.index.astype(str)"
   ]
  },
  {
   "cell_type": "code",
   "execution_count": 84,
   "metadata": {},
   "outputs": [],
   "source": [
    "brent_only = brent_monthly[['BRENT_PRICE']]\n",
    "brent_only[['OilNewsShock', 'OilSurprise']] = oil_fixed[['OilNewsShock', 'OilSurprise']]\n",
    "brent_only.index = brent_only.index + '-01'\n",
    "brent_only = brent_only.reset_index()\n",
    "brent_only['BRENT_PRICE_t1'] = brent_only['BRENT_PRICE'].shift(1)\n",
    "brent_only['BRENT_PRICE_t1'] = brent_only['BRENT_PRICE_t1'].interpolate(method=\"nearest\").ffill().bfill()\n",
    "\n",
    "brent_only.to_csv(\"/Users/lorenz/Library/CloudStorage/OneDrive-UniversitàdegliStudidiMilano/PhD/Progetto/matlab/codice_ipgas/oil_only.csv\")"
   ]
  },
  {
   "cell_type": "code",
   "execution_count": null,
   "metadata": {},
   "outputs": [
    {
     "data": {
      "application/vnd.microsoft.datawrangler.viewer.v0+json": {
       "columns": [
        {
         "name": "Time",
         "rawType": "object",
         "type": "string"
        },
        {
         "name": "nace_r2",
         "rawType": "category",
         "type": "unknown"
        },
        {
         "name": "geo",
         "rawType": "category",
         "type": "unknown"
        },
        {
         "name": "OBS_VALUE",
         "rawType": "float64",
         "type": "float"
        },
        {
         "name": "unit",
         "rawType": "category",
         "type": "unknown"
        },
        {
         "name": "GAS_PRICE",
         "rawType": "float64",
         "type": "float"
        },
        {
         "name": "OilNewsShock",
         "rawType": "float64",
         "type": "float"
        },
        {
         "name": "OilSurprise",
         "rawType": "float64",
         "type": "float"
        },
        {
         "name": "BRENT_PRICE",
         "rawType": "float64",
         "type": "float"
        }
       ],
       "ref": "9cddfb48-8a0f-4b1d-baae-96edfdba643a",
       "rows": [
        [
         "2004-01",
         "Manufacturing",
         "European Union - 27 countries (from 2020)",
         "84.4",
         "Index, 2021=100",
         "11.36",
         "0.44154017195044576",
         "0.0",
         "31.236363636363638"
        ],
        [
         "2004-02",
         "Manufacturing",
         "European Union - 27 countries (from 2020)",
         "85.4",
         "Index, 2021=100",
         "10.7975",
         "-0.08581088034809001",
         "2.694076911628696",
         "30.8585"
        ],
        [
         "2004-03",
         "Manufacturing",
         "European Union - 27 countries (from 2020)",
         "85.1",
         "Index, 2021=100",
         "10.900434782608697",
         "0.2813203494904621",
         "-0.667869132781252",
         "33.63434782608696"
        ],
        [
         "2004-04",
         "Manufacturing",
         "European Union - 27 countries (from 2020)",
         "85.9",
         "Index, 2021=100",
         "10.974545454545455",
         "-0.6033863591783445",
         "0.0",
         "33.59090909090909"
        ],
        [
         "2004-05",
         "Manufacturing",
         "European Union - 27 countries (from 2020)",
         "86.0",
         "Index, 2021=100",
         "11.221904761904762",
         "0.5969780334499486",
         "0.0",
         "37.56761904761905"
        ],
        [
         "2004-06",
         "Manufacturing",
         "European Union - 27 countries (from 2020)",
         "86.0",
         "Index, 2021=100",
         "10.607727272727272",
         "-0.0108376887124877",
         "-0.8697021883599181",
         "35.18363636363636"
        ],
        [
         "2004-07",
         "Manufacturing",
         "European Union - 27 countries (from 2020)",
         "86.5",
         "Index, 2021=100",
         "10.656818181818181",
         "-0.18225670383212336",
         "0.0",
         "38.221363636363634"
        ],
        [
         "2004-08",
         "Manufacturing",
         "European Union - 27 countries (from 2020)",
         "84.7",
         "Index, 2021=100",
         "12.030909090909091",
         "0.41307128781677527",
         "0.0",
         "42.74409090909091"
        ],
        [
         "2004-09",
         "Manufacturing",
         "European Union - 27 countries (from 2020)",
         "86.1",
         "Index, 2021=100",
         "12.784999999999998",
         "0.020228290770040784",
         "-1.6071356282661176",
         "43.19681818181818"
        ],
        [
         "2004-10",
         "Manufacturing",
         "European Union - 27 countries (from 2020)",
         "86.5",
         "Index, 2021=100",
         "12.065238095238096",
         "0.8379242805985881",
         "0.0",
         "49.776666666666664"
        ],
        [
         "2004-11",
         "Manufacturing",
         "European Union - 27 countries (from 2020)",
         "85.6",
         "Index, 2021=100",
         "12.959545454545456",
         "-0.22862171681724705",
         "0.0",
         "43.110454545454544"
        ],
        [
         "2004-12",
         "Manufacturing",
         "European Union - 27 countries (from 2020)",
         "85.3",
         "Index, 2021=100",
         "14.537391304347826",
         "-0.8713033012256369",
         "-3.1596202022297115",
         "39.60217391304348"
        ],
        [
         "2005-01",
         "Manufacturing",
         "European Union - 27 countries (from 2020)",
         "87.0",
         "Index, 2021=100",
         "14.123333333333331",
         "0.2661415106984759",
         "2.159954265104334",
         "44.31238095238095"
        ],
        [
         "2005-02",
         "Manufacturing",
         "European Union - 27 countries (from 2020)",
         "85.9",
         "Index, 2021=100",
         "16.8315",
         "0.33553585232891664",
         "0.0",
         "45.475"
        ],
        [
         "2005-03",
         "Manufacturing",
         "European Union - 27 countries (from 2020)",
         "86.2",
         "Index, 2021=100",
         "18.585217391304347",
         "0.5751930208570617",
         "3.0421593263989704",
         "53.071739130434786"
        ],
        [
         "2005-04",
         "Manufacturing",
         "European Union - 27 countries (from 2020)",
         "87.5",
         "Index, 2021=100",
         "14.80857142857143",
         "-0.5666684540474421",
         "0.0",
         "51.88380952380952"
        ],
        [
         "2005-05",
         "Manufacturing",
         "European Union - 27 countries (from 2020)",
         "86.2",
         "Index, 2021=100",
         "14.289090909090909",
         "-0.10846214234396483",
         "0.0",
         "48.64545454545455"
        ],
        [
         "2005-06",
         "Manufacturing",
         "European Union - 27 countries (from 2020)",
         "87.2",
         "Index, 2021=100",
         "14.356363636363636",
         "0.503989891285571",
         "0.3374585671050337",
         "54.35454545454545"
        ],
        [
         "2005-07",
         "Manufacturing",
         "European Union - 27 countries (from 2020)",
         "87.7",
         "Index, 2021=100",
         "15.540952380952382",
         "0.563468443674944",
         "0.0",
         "57.52"
        ],
        [
         "2005-08",
         "Manufacturing",
         "European Union - 27 countries (from 2020)",
         "86.9",
         "Index, 2021=100",
         "15.107826086956523",
         "0.718752317958703",
         "0.0",
         "63.98347826086956"
        ],
        [
         "2005-09",
         "Manufacturing",
         "European Union - 27 countries (from 2020)",
         "88.4",
         "Index, 2021=100",
         "14.746363636363638",
         "1.1148474280757803",
         "-1.6643240899907965",
         "62.908181818181816"
        ],
        [
         "2005-10",
         "Manufacturing",
         "European Union - 27 countries (from 2020)",
         "88.7",
         "Index, 2021=100",
         "15.534761904761906",
         "-1.0533079897254418",
         "0.0",
         "58.53857142857142"
        ],
        [
         "2005-11",
         "Manufacturing",
         "European Union - 27 countries (from 2020)",
         "89.8",
         "Index, 2021=100",
         "19.15909090909091",
         "-1.2341397270208476",
         "0.0",
         "55.24181818181818"
        ],
        [
         "2005-12",
         "Manufacturing",
         "European Union - 27 countries (from 2020)",
         "88.9",
         "Index, 2021=100",
         "22.903636363636362",
         "-0.03924653272715153",
         "2.9526028347999587",
         "56.84136363636364"
        ],
        [
         "2006-01",
         "Manufacturing",
         "European Union - 27 countries (from 2020)",
         "89.5",
         "Index, 2021=100",
         "25.694999999999997",
         "0.19348656521120655",
         "-0.15180339953147387",
         "62.77409090909091"
        ],
        [
         "2006-02",
         "Manufacturing",
         "European Union - 27 countries (from 2020)",
         "89.3",
         "Index, 2021=100",
         "22.324",
         "-0.6518974343740799",
         "0.0",
         "60.21"
        ],
        [
         "2006-03",
         "Manufacturing",
         "European Union - 27 countries (from 2020)",
         "89.9",
         "Index, 2021=100",
         "26.028260869565216",
         "-0.07863751143875931",
         "-1.827456416166897",
         "62.06478260869565"
        ],
        [
         "2006-04",
         "Manufacturing",
         "European Union - 27 countries (from 2020)",
         "90.5",
         "Index, 2021=100",
         "21.387999999999998",
         "0.6237237514902355",
         "0.0",
         "70.173"
        ],
        [
         "2006-05",
         "Manufacturing",
         "European Union - 27 countries (from 2020)",
         "92.4",
         "Index, 2021=100",
         "19.692608695652176",
         "-0.3540726086115883",
         "0.0",
         "69.77695652173912"
        ],
        [
         "2006-06",
         "Manufacturing",
         "European Union - 27 countries (from 2020)",
         "92.2",
         "Index, 2021=100",
         "19.58409090909091",
         "-0.31545669169778073",
         "-1.1833322763183536",
         "68.5559090909091"
        ],
        [
         "2006-07",
         "Manufacturing",
         "European Union - 27 countries (from 2020)",
         "92.1",
         "Index, 2021=100",
         "19.847619047619048",
         "0.28310573574819875",
         "0.0",
         "73.67428571428572"
        ],
        [
         "2006-08",
         "Manufacturing",
         "European Union - 27 countries (from 2020)",
         "92.4",
         "Index, 2021=100",
         "17.97826086956522",
         "-0.1782674258490434",
         "0.0",
         "73.2304347826087"
        ],
        [
         "2006-09",
         "Manufacturing",
         "European Union - 27 countries (from 2020)",
         "93.0",
         "Index, 2021=100",
         "15.951428571428572",
         "-1.0773599355773278",
         "-1.1265879387430244",
         "61.95857142857143"
        ],
        [
         "2006-10",
         "Manufacturing",
         "European Union - 27 countries (from 2020)",
         "93.1",
         "Index, 2021=100",
         "14.200454545454546",
         "-0.713482353040865",
         "-1.0147867419479089",
         "57.808181818181815"
        ],
        [
         "2006-11",
         "Manufacturing",
         "European Union - 27 countries (from 2020)",
         "93.7",
         "Index, 2021=100",
         "19.87272727272727",
         "-0.6336040683167151",
         "0.0",
         "58.76136363636363"
        ],
        [
         "2006-12",
         "Manufacturing",
         "European Union - 27 countries (from 2020)",
         "95.5",
         "Index, 2021=100",
         "16.45809523809524",
         "0.06279864252157119",
         "1.7594994847040366",
         "62.41952380952381"
        ],
        [
         "2007-01",
         "Manufacturing",
         "European Union - 27 countries (from 2020)",
         "95.3",
         "Index, 2021=100",
         "13.603478260869565",
         "-0.8815456486489374",
         "0.0",
         "53.748695652173915"
        ],
        [
         "2007-02",
         "Manufacturing",
         "European Union - 27 countries (from 2020)",
         "95.5",
         "Index, 2021=100",
         "9.310500000000001",
         "0.5012149220613668",
         "0.0",
         "57.516999999999996"
        ],
        [
         "2007-03",
         "Manufacturing",
         "European Union - 27 countries (from 2020)",
         "96.1",
         "Index, 2021=100",
         "10.338636363636363",
         "0.001407425353364094",
         "-0.689195928658093",
         "62.05045454545455"
        ],
        [
         "2007-04",
         "Manufacturing",
         "European Union - 27 countries (from 2020)",
         "95.0",
         "Index, 2021=100",
         "8.91904761904762",
         "0.23160567911181562",
         "0.0",
         "67.64428571428572"
        ],
        [
         "2007-05",
         "Manufacturing",
         "European Union - 27 countries (from 2020)",
         "96.2",
         "Index, 2021=100",
         "11.71391304347826",
         "-0.29762578435044224",
         "0.0",
         "67.36478260869566"
        ],
        [
         "2007-06",
         "Manufacturing",
         "European Union - 27 countries (from 2020)",
         "96.2",
         "Index, 2021=100",
         "10.586190476190476",
         "0.16535936703141824",
         "0.0",
         "71.04571428571428"
        ],
        [
         "2007-07",
         "Manufacturing",
         "European Union - 27 countries (from 2020)",
         "96.5",
         "Index, 2021=100",
         "14.946363636363635",
         "0.18880782596297765",
         "0.0",
         "76.80863636363637"
        ],
        [
         "2007-08",
         "Manufacturing",
         "European Union - 27 countries (from 2020)",
         "96.8",
         "Index, 2021=100",
         "14.281304347826088",
         "-0.5681005018139146",
         "0.0",
         "70.76086956521739"
        ],
        [
         "2007-09",
         "Manufacturing",
         "European Union - 27 countries (from 2020)",
         "96.5",
         "Index, 2021=100",
         "17.057",
         "1.0001793364551819",
         "1.1859376565060231",
         "76.929"
        ],
        [
         "2007-10",
         "Manufacturing",
         "European Union - 27 countries (from 2020)",
         "97.3",
         "Index, 2021=100",
         "20.13478260869565",
         "0.10198579635873983",
         "0.0",
         "82.34"
        ],
        [
         "2007-11",
         "Manufacturing",
         "European Union - 27 countries (from 2020)",
         "96.7",
         "Index, 2021=100",
         "22.223636363636363",
         "0.6128810878526092",
         "0.0",
         "92.53045454545455"
        ],
        [
         "2007-12",
         "Manufacturing",
         "European Union - 27 countries (from 2020)",
         "97.6",
         "Index, 2021=100",
         "23.133333333333333",
         "-0.28925766272037334",
         "-0.831933850195447",
         "90.99"
        ],
        [
         "2008-01",
         "Manufacturing",
         "European Union - 27 countries (from 2020)",
         "99.1",
         "Index, 2021=100",
         "24.26347826086956",
         "-0.13761859893639725",
         "0.0",
         "92.13391304347826"
        ],
        [
         "2008-02",
         "Manufacturing",
         "European Union - 27 countries (from 2020)",
         "99.1",
         "Index, 2021=100",
         "22.760952380952382",
         "0.2608943406309443",
         "-2.502179452682496",
         "95.08047619047619"
        ]
       ],
       "shape": {
        "columns": 8,
        "rows": 240
       }
      },
      "text/html": [
       "<div>\n",
       "<style scoped>\n",
       "    .dataframe tbody tr th:only-of-type {\n",
       "        vertical-align: middle;\n",
       "    }\n",
       "\n",
       "    .dataframe tbody tr th {\n",
       "        vertical-align: top;\n",
       "    }\n",
       "\n",
       "    .dataframe thead th {\n",
       "        text-align: right;\n",
       "    }\n",
       "</style>\n",
       "<table border=\"1\" class=\"dataframe\">\n",
       "  <thead>\n",
       "    <tr style=\"text-align: right;\">\n",
       "      <th></th>\n",
       "      <th>nace_r2</th>\n",
       "      <th>geo</th>\n",
       "      <th>OBS_VALUE</th>\n",
       "      <th>unit</th>\n",
       "      <th>GAS_PRICE</th>\n",
       "      <th>OilNewsShock</th>\n",
       "      <th>OilSurprise</th>\n",
       "      <th>BRENT_PRICE</th>\n",
       "    </tr>\n",
       "    <tr>\n",
       "      <th>Time</th>\n",
       "      <th></th>\n",
       "      <th></th>\n",
       "      <th></th>\n",
       "      <th></th>\n",
       "      <th></th>\n",
       "      <th></th>\n",
       "      <th></th>\n",
       "      <th></th>\n",
       "    </tr>\n",
       "  </thead>\n",
       "  <tbody>\n",
       "    <tr>\n",
       "      <th>2004-01</th>\n",
       "      <td>Manufacturing</td>\n",
       "      <td>European Union - 27 countries (from 2020)</td>\n",
       "      <td>84.4</td>\n",
       "      <td>Index, 2021=100</td>\n",
       "      <td>11.360000</td>\n",
       "      <td>0.441540</td>\n",
       "      <td>0.000000</td>\n",
       "      <td>31.236364</td>\n",
       "    </tr>\n",
       "    <tr>\n",
       "      <th>2004-02</th>\n",
       "      <td>Manufacturing</td>\n",
       "      <td>European Union - 27 countries (from 2020)</td>\n",
       "      <td>85.4</td>\n",
       "      <td>Index, 2021=100</td>\n",
       "      <td>10.797500</td>\n",
       "      <td>-0.085811</td>\n",
       "      <td>2.694077</td>\n",
       "      <td>30.858500</td>\n",
       "    </tr>\n",
       "    <tr>\n",
       "      <th>2004-03</th>\n",
       "      <td>Manufacturing</td>\n",
       "      <td>European Union - 27 countries (from 2020)</td>\n",
       "      <td>85.1</td>\n",
       "      <td>Index, 2021=100</td>\n",
       "      <td>10.900435</td>\n",
       "      <td>0.281320</td>\n",
       "      <td>-0.667869</td>\n",
       "      <td>33.634348</td>\n",
       "    </tr>\n",
       "    <tr>\n",
       "      <th>2004-04</th>\n",
       "      <td>Manufacturing</td>\n",
       "      <td>European Union - 27 countries (from 2020)</td>\n",
       "      <td>85.9</td>\n",
       "      <td>Index, 2021=100</td>\n",
       "      <td>10.974545</td>\n",
       "      <td>-0.603386</td>\n",
       "      <td>0.000000</td>\n",
       "      <td>33.590909</td>\n",
       "    </tr>\n",
       "    <tr>\n",
       "      <th>2004-05</th>\n",
       "      <td>Manufacturing</td>\n",
       "      <td>European Union - 27 countries (from 2020)</td>\n",
       "      <td>86.0</td>\n",
       "      <td>Index, 2021=100</td>\n",
       "      <td>11.221905</td>\n",
       "      <td>0.596978</td>\n",
       "      <td>0.000000</td>\n",
       "      <td>37.567619</td>\n",
       "    </tr>\n",
       "    <tr>\n",
       "      <th>...</th>\n",
       "      <td>...</td>\n",
       "      <td>...</td>\n",
       "      <td>...</td>\n",
       "      <td>...</td>\n",
       "      <td>...</td>\n",
       "      <td>...</td>\n",
       "      <td>...</td>\n",
       "      <td>...</td>\n",
       "    </tr>\n",
       "    <tr>\n",
       "      <th>2023-08</th>\n",
       "      <td>Manufacturing</td>\n",
       "      <td>European Union - 27 countries (from 2020)</td>\n",
       "      <td>100.8</td>\n",
       "      <td>Index, 2021=100</td>\n",
       "      <td>33.523043</td>\n",
       "      <td>0.263434</td>\n",
       "      <td>0.000000</td>\n",
       "      <td>86.116087</td>\n",
       "    </tr>\n",
       "    <tr>\n",
       "      <th>2023-09</th>\n",
       "      <td>Manufacturing</td>\n",
       "      <td>European Union - 27 countries (from 2020)</td>\n",
       "      <td>100.7</td>\n",
       "      <td>Index, 2021=100</td>\n",
       "      <td>36.527619</td>\n",
       "      <td>0.470927</td>\n",
       "      <td>0.000000</td>\n",
       "      <td>93.722381</td>\n",
       "    </tr>\n",
       "    <tr>\n",
       "      <th>2023-10</th>\n",
       "      <td>Manufacturing</td>\n",
       "      <td>European Union - 27 countries (from 2020)</td>\n",
       "      <td>100.1</td>\n",
       "      <td>Index, 2021=100</td>\n",
       "      <td>43.264545</td>\n",
       "      <td>-0.165344</td>\n",
       "      <td>0.000000</td>\n",
       "      <td>90.595909</td>\n",
       "    </tr>\n",
       "    <tr>\n",
       "      <th>2023-11</th>\n",
       "      <td>Manufacturing</td>\n",
       "      <td>European Union - 27 countries (from 2020)</td>\n",
       "      <td>101.3</td>\n",
       "      <td>Index, 2021=100</td>\n",
       "      <td>43.269091</td>\n",
       "      <td>-0.571545</td>\n",
       "      <td>-2.465149</td>\n",
       "      <td>82.940000</td>\n",
       "    </tr>\n",
       "    <tr>\n",
       "      <th>2023-12</th>\n",
       "      <td>Manufacturing</td>\n",
       "      <td>European Union - 27 countries (from 2020)</td>\n",
       "      <td>100.3</td>\n",
       "      <td>Index, 2021=100</td>\n",
       "      <td>35.318571</td>\n",
       "      <td>0.011209</td>\n",
       "      <td>0.000000</td>\n",
       "      <td>77.878571</td>\n",
       "    </tr>\n",
       "  </tbody>\n",
       "</table>\n",
       "<p>240 rows × 8 columns</p>\n",
       "</div>"
      ],
      "text/plain": [
       "               nace_r2                                        geo  OBS_VALUE  \\\n",
       "Time                                                                           \n",
       "2004-01  Manufacturing  European Union - 27 countries (from 2020)       84.4   \n",
       "2004-02  Manufacturing  European Union - 27 countries (from 2020)       85.4   \n",
       "2004-03  Manufacturing  European Union - 27 countries (from 2020)       85.1   \n",
       "2004-04  Manufacturing  European Union - 27 countries (from 2020)       85.9   \n",
       "2004-05  Manufacturing  European Union - 27 countries (from 2020)       86.0   \n",
       "...                ...                                        ...        ...   \n",
       "2023-08  Manufacturing  European Union - 27 countries (from 2020)      100.8   \n",
       "2023-09  Manufacturing  European Union - 27 countries (from 2020)      100.7   \n",
       "2023-10  Manufacturing  European Union - 27 countries (from 2020)      100.1   \n",
       "2023-11  Manufacturing  European Union - 27 countries (from 2020)      101.3   \n",
       "2023-12  Manufacturing  European Union - 27 countries (from 2020)      100.3   \n",
       "\n",
       "                    unit  GAS_PRICE  OilNewsShock  OilSurprise  BRENT_PRICE  \n",
       "Time                                                                         \n",
       "2004-01  Index, 2021=100  11.360000      0.441540     0.000000    31.236364  \n",
       "2004-02  Index, 2021=100  10.797500     -0.085811     2.694077    30.858500  \n",
       "2004-03  Index, 2021=100  10.900435      0.281320    -0.667869    33.634348  \n",
       "2004-04  Index, 2021=100  10.974545     -0.603386     0.000000    33.590909  \n",
       "2004-05  Index, 2021=100  11.221905      0.596978     0.000000    37.567619  \n",
       "...                  ...        ...           ...          ...          ...  \n",
       "2023-08  Index, 2021=100  33.523043      0.263434     0.000000    86.116087  \n",
       "2023-09  Index, 2021=100  36.527619      0.470927     0.000000    93.722381  \n",
       "2023-10  Index, 2021=100  43.264545     -0.165344     0.000000    90.595909  \n",
       "2023-11  Index, 2021=100  43.269091     -0.571545    -2.465149    82.940000  \n",
       "2023-12  Index, 2021=100  35.318571      0.011209     0.000000    77.878571  \n",
       "\n",
       "[240 rows x 8 columns]"
      ]
     },
     "execution_count": 68,
     "metadata": {},
     "output_type": "execute_result"
    }
   ],
   "source": [
    "# Step 4: Merge with your dataset (e.g., df_merged)\n",
    "df_final['BRENT_PRICE'] = brent_monthly['BRENT_PRICE']"
   ]
  },
  {
   "cell_type": "code",
   "execution_count": null,
   "metadata": {},
   "outputs": [
    {
     "data": {
      "application/vnd.microsoft.datawrangler.viewer.v0+json": {
       "columns": [
        {
         "name": "Time",
         "rawType": "object",
         "type": "string"
        },
        {
         "name": "nace_r2",
         "rawType": "category",
         "type": "unknown"
        },
        {
         "name": "geo",
         "rawType": "category",
         "type": "unknown"
        },
        {
         "name": "OBS_VALUE",
         "rawType": "float64",
         "type": "float"
        },
        {
         "name": "unit",
         "rawType": "category",
         "type": "unknown"
        },
        {
         "name": "GAS_PRICE",
         "rawType": "float64",
         "type": "float"
        },
        {
         "name": "OilNewsShock",
         "rawType": "float64",
         "type": "float"
        },
        {
         "name": "OilSurprise",
         "rawType": "float64",
         "type": "float"
        },
        {
         "name": "BRENT_PRICE",
         "rawType": "float64",
         "type": "float"
        }
       ],
       "ref": "8ac049e3-9768-44f9-86af-573bc2db16f1",
       "rows": [
        [
         "2004-01-01",
         "Manufacturing",
         "European Union - 27 countries (from 2020)",
         "84.4",
         "Index, 2021=100",
         "11.36",
         "0.44154017195044576",
         "0.0",
         "31.236363636363638"
        ],
        [
         "2004-02-01",
         "Manufacturing",
         "European Union - 27 countries (from 2020)",
         "85.4",
         "Index, 2021=100",
         "10.7975",
         "-0.08581088034809001",
         "2.694076911628696",
         "30.8585"
        ],
        [
         "2004-03-01",
         "Manufacturing",
         "European Union - 27 countries (from 2020)",
         "85.1",
         "Index, 2021=100",
         "10.900434782608697",
         "0.2813203494904621",
         "-0.667869132781252",
         "33.63434782608696"
        ],
        [
         "2004-04-01",
         "Manufacturing",
         "European Union - 27 countries (from 2020)",
         "85.9",
         "Index, 2021=100",
         "10.974545454545455",
         "-0.6033863591783445",
         "0.0",
         "33.59090909090909"
        ],
        [
         "2004-05-01",
         "Manufacturing",
         "European Union - 27 countries (from 2020)",
         "86.0",
         "Index, 2021=100",
         "11.221904761904762",
         "0.5969780334499486",
         "0.0",
         "37.56761904761905"
        ],
        [
         "2004-06-01",
         "Manufacturing",
         "European Union - 27 countries (from 2020)",
         "86.0",
         "Index, 2021=100",
         "10.607727272727272",
         "-0.0108376887124877",
         "-0.8697021883599181",
         "35.18363636363636"
        ],
        [
         "2004-07-01",
         "Manufacturing",
         "European Union - 27 countries (from 2020)",
         "86.5",
         "Index, 2021=100",
         "10.656818181818181",
         "-0.18225670383212336",
         "0.0",
         "38.221363636363634"
        ],
        [
         "2004-08-01",
         "Manufacturing",
         "European Union - 27 countries (from 2020)",
         "84.7",
         "Index, 2021=100",
         "12.030909090909091",
         "0.41307128781677527",
         "0.0",
         "42.74409090909091"
        ],
        [
         "2004-09-01",
         "Manufacturing",
         "European Union - 27 countries (from 2020)",
         "86.1",
         "Index, 2021=100",
         "12.784999999999998",
         "0.020228290770040784",
         "-1.6071356282661176",
         "43.19681818181818"
        ],
        [
         "2004-10-01",
         "Manufacturing",
         "European Union - 27 countries (from 2020)",
         "86.5",
         "Index, 2021=100",
         "12.065238095238096",
         "0.8379242805985881",
         "0.0",
         "49.776666666666664"
        ],
        [
         "2004-11-01",
         "Manufacturing",
         "European Union - 27 countries (from 2020)",
         "85.6",
         "Index, 2021=100",
         "12.959545454545456",
         "-0.22862171681724705",
         "0.0",
         "43.110454545454544"
        ],
        [
         "2004-12-01",
         "Manufacturing",
         "European Union - 27 countries (from 2020)",
         "85.3",
         "Index, 2021=100",
         "14.537391304347826",
         "-0.8713033012256369",
         "-3.1596202022297115",
         "39.60217391304348"
        ],
        [
         "2005-01-01",
         "Manufacturing",
         "European Union - 27 countries (from 2020)",
         "87.0",
         "Index, 2021=100",
         "14.123333333333331",
         "0.2661415106984759",
         "2.159954265104334",
         "44.31238095238095"
        ],
        [
         "2005-02-01",
         "Manufacturing",
         "European Union - 27 countries (from 2020)",
         "85.9",
         "Index, 2021=100",
         "16.8315",
         "0.33553585232891664",
         "0.0",
         "45.475"
        ],
        [
         "2005-03-01",
         "Manufacturing",
         "European Union - 27 countries (from 2020)",
         "86.2",
         "Index, 2021=100",
         "18.585217391304347",
         "0.5751930208570617",
         "3.0421593263989704",
         "53.071739130434786"
        ],
        [
         "2005-04-01",
         "Manufacturing",
         "European Union - 27 countries (from 2020)",
         "87.5",
         "Index, 2021=100",
         "14.80857142857143",
         "-0.5666684540474421",
         "0.0",
         "51.88380952380952"
        ],
        [
         "2005-05-01",
         "Manufacturing",
         "European Union - 27 countries (from 2020)",
         "86.2",
         "Index, 2021=100",
         "14.289090909090909",
         "-0.10846214234396483",
         "0.0",
         "48.64545454545455"
        ],
        [
         "2005-06-01",
         "Manufacturing",
         "European Union - 27 countries (from 2020)",
         "87.2",
         "Index, 2021=100",
         "14.356363636363636",
         "0.503989891285571",
         "0.3374585671050337",
         "54.35454545454545"
        ],
        [
         "2005-07-01",
         "Manufacturing",
         "European Union - 27 countries (from 2020)",
         "87.7",
         "Index, 2021=100",
         "15.540952380952382",
         "0.563468443674944",
         "0.0",
         "57.52"
        ],
        [
         "2005-08-01",
         "Manufacturing",
         "European Union - 27 countries (from 2020)",
         "86.9",
         "Index, 2021=100",
         "15.107826086956523",
         "0.718752317958703",
         "0.0",
         "63.98347826086956"
        ],
        [
         "2005-09-01",
         "Manufacturing",
         "European Union - 27 countries (from 2020)",
         "88.4",
         "Index, 2021=100",
         "14.746363636363638",
         "1.1148474280757803",
         "-1.6643240899907965",
         "62.908181818181816"
        ],
        [
         "2005-10-01",
         "Manufacturing",
         "European Union - 27 countries (from 2020)",
         "88.7",
         "Index, 2021=100",
         "15.534761904761906",
         "-1.0533079897254418",
         "0.0",
         "58.53857142857142"
        ],
        [
         "2005-11-01",
         "Manufacturing",
         "European Union - 27 countries (from 2020)",
         "89.8",
         "Index, 2021=100",
         "19.15909090909091",
         "-1.2341397270208476",
         "0.0",
         "55.24181818181818"
        ],
        [
         "2005-12-01",
         "Manufacturing",
         "European Union - 27 countries (from 2020)",
         "88.9",
         "Index, 2021=100",
         "22.903636363636362",
         "-0.03924653272715153",
         "2.9526028347999587",
         "56.84136363636364"
        ],
        [
         "2006-01-01",
         "Manufacturing",
         "European Union - 27 countries (from 2020)",
         "89.5",
         "Index, 2021=100",
         "25.694999999999997",
         "0.19348656521120655",
         "-0.15180339953147387",
         "62.77409090909091"
        ],
        [
         "2006-02-01",
         "Manufacturing",
         "European Union - 27 countries (from 2020)",
         "89.3",
         "Index, 2021=100",
         "22.324",
         "-0.6518974343740799",
         "0.0",
         "60.21"
        ],
        [
         "2006-03-01",
         "Manufacturing",
         "European Union - 27 countries (from 2020)",
         "89.9",
         "Index, 2021=100",
         "26.028260869565216",
         "-0.07863751143875931",
         "-1.827456416166897",
         "62.06478260869565"
        ],
        [
         "2006-04-01",
         "Manufacturing",
         "European Union - 27 countries (from 2020)",
         "90.5",
         "Index, 2021=100",
         "21.387999999999998",
         "0.6237237514902355",
         "0.0",
         "70.173"
        ],
        [
         "2006-05-01",
         "Manufacturing",
         "European Union - 27 countries (from 2020)",
         "92.4",
         "Index, 2021=100",
         "19.692608695652176",
         "-0.3540726086115883",
         "0.0",
         "69.77695652173912"
        ],
        [
         "2006-06-01",
         "Manufacturing",
         "European Union - 27 countries (from 2020)",
         "92.2",
         "Index, 2021=100",
         "19.58409090909091",
         "-0.31545669169778073",
         "-1.1833322763183536",
         "68.5559090909091"
        ],
        [
         "2006-07-01",
         "Manufacturing",
         "European Union - 27 countries (from 2020)",
         "92.1",
         "Index, 2021=100",
         "19.847619047619048",
         "0.28310573574819875",
         "0.0",
         "73.67428571428572"
        ],
        [
         "2006-08-01",
         "Manufacturing",
         "European Union - 27 countries (from 2020)",
         "92.4",
         "Index, 2021=100",
         "17.97826086956522",
         "-0.1782674258490434",
         "0.0",
         "73.2304347826087"
        ],
        [
         "2006-09-01",
         "Manufacturing",
         "European Union - 27 countries (from 2020)",
         "93.0",
         "Index, 2021=100",
         "15.951428571428572",
         "-1.0773599355773278",
         "-1.1265879387430244",
         "61.95857142857143"
        ],
        [
         "2006-10-01",
         "Manufacturing",
         "European Union - 27 countries (from 2020)",
         "93.1",
         "Index, 2021=100",
         "14.200454545454546",
         "-0.713482353040865",
         "-1.0147867419479089",
         "57.808181818181815"
        ],
        [
         "2006-11-01",
         "Manufacturing",
         "European Union - 27 countries (from 2020)",
         "93.7",
         "Index, 2021=100",
         "19.87272727272727",
         "-0.6336040683167151",
         "0.0",
         "58.76136363636363"
        ],
        [
         "2006-12-01",
         "Manufacturing",
         "European Union - 27 countries (from 2020)",
         "95.5",
         "Index, 2021=100",
         "16.45809523809524",
         "0.06279864252157119",
         "1.7594994847040366",
         "62.41952380952381"
        ],
        [
         "2007-01-01",
         "Manufacturing",
         "European Union - 27 countries (from 2020)",
         "95.3",
         "Index, 2021=100",
         "13.603478260869565",
         "-0.8815456486489374",
         "0.0",
         "53.748695652173915"
        ],
        [
         "2007-02-01",
         "Manufacturing",
         "European Union - 27 countries (from 2020)",
         "95.5",
         "Index, 2021=100",
         "9.310500000000001",
         "0.5012149220613668",
         "0.0",
         "57.516999999999996"
        ],
        [
         "2007-03-01",
         "Manufacturing",
         "European Union - 27 countries (from 2020)",
         "96.1",
         "Index, 2021=100",
         "10.338636363636363",
         "0.001407425353364094",
         "-0.689195928658093",
         "62.05045454545455"
        ],
        [
         "2007-04-01",
         "Manufacturing",
         "European Union - 27 countries (from 2020)",
         "95.0",
         "Index, 2021=100",
         "8.91904761904762",
         "0.23160567911181562",
         "0.0",
         "67.64428571428572"
        ],
        [
         "2007-05-01",
         "Manufacturing",
         "European Union - 27 countries (from 2020)",
         "96.2",
         "Index, 2021=100",
         "11.71391304347826",
         "-0.29762578435044224",
         "0.0",
         "67.36478260869566"
        ],
        [
         "2007-06-01",
         "Manufacturing",
         "European Union - 27 countries (from 2020)",
         "96.2",
         "Index, 2021=100",
         "10.586190476190476",
         "0.16535936703141824",
         "0.0",
         "71.04571428571428"
        ],
        [
         "2007-07-01",
         "Manufacturing",
         "European Union - 27 countries (from 2020)",
         "96.5",
         "Index, 2021=100",
         "14.946363636363635",
         "0.18880782596297765",
         "0.0",
         "76.80863636363637"
        ],
        [
         "2007-08-01",
         "Manufacturing",
         "European Union - 27 countries (from 2020)",
         "96.8",
         "Index, 2021=100",
         "14.281304347826088",
         "-0.5681005018139146",
         "0.0",
         "70.76086956521739"
        ],
        [
         "2007-09-01",
         "Manufacturing",
         "European Union - 27 countries (from 2020)",
         "96.5",
         "Index, 2021=100",
         "17.057",
         "1.0001793364551819",
         "1.1859376565060231",
         "76.929"
        ],
        [
         "2007-10-01",
         "Manufacturing",
         "European Union - 27 countries (from 2020)",
         "97.3",
         "Index, 2021=100",
         "20.13478260869565",
         "0.10198579635873983",
         "0.0",
         "82.34"
        ],
        [
         "2007-11-01",
         "Manufacturing",
         "European Union - 27 countries (from 2020)",
         "96.7",
         "Index, 2021=100",
         "22.223636363636363",
         "0.6128810878526092",
         "0.0",
         "92.53045454545455"
        ],
        [
         "2007-12-01",
         "Manufacturing",
         "European Union - 27 countries (from 2020)",
         "97.6",
         "Index, 2021=100",
         "23.133333333333333",
         "-0.28925766272037334",
         "-0.831933850195447",
         "90.99"
        ],
        [
         "2008-01-01",
         "Manufacturing",
         "European Union - 27 countries (from 2020)",
         "99.1",
         "Index, 2021=100",
         "24.26347826086956",
         "-0.13761859893639725",
         "0.0",
         "92.13391304347826"
        ],
        [
         "2008-02-01",
         "Manufacturing",
         "European Union - 27 countries (from 2020)",
         "99.1",
         "Index, 2021=100",
         "22.760952380952382",
         "0.2608943406309443",
         "-2.502179452682496",
         "95.08047619047619"
        ]
       ],
       "shape": {
        "columns": 8,
        "rows": 240
       }
      },
      "text/html": [
       "<div>\n",
       "<style scoped>\n",
       "    .dataframe tbody tr th:only-of-type {\n",
       "        vertical-align: middle;\n",
       "    }\n",
       "\n",
       "    .dataframe tbody tr th {\n",
       "        vertical-align: top;\n",
       "    }\n",
       "\n",
       "    .dataframe thead th {\n",
       "        text-align: right;\n",
       "    }\n",
       "</style>\n",
       "<table border=\"1\" class=\"dataframe\">\n",
       "  <thead>\n",
       "    <tr style=\"text-align: right;\">\n",
       "      <th></th>\n",
       "      <th>nace_r2</th>\n",
       "      <th>geo</th>\n",
       "      <th>OBS_VALUE</th>\n",
       "      <th>unit</th>\n",
       "      <th>GAS_PRICE</th>\n",
       "      <th>OilNewsShock</th>\n",
       "      <th>OilSurprise</th>\n",
       "      <th>BRENT_PRICE</th>\n",
       "    </tr>\n",
       "    <tr>\n",
       "      <th>Time</th>\n",
       "      <th></th>\n",
       "      <th></th>\n",
       "      <th></th>\n",
       "      <th></th>\n",
       "      <th></th>\n",
       "      <th></th>\n",
       "      <th></th>\n",
       "      <th></th>\n",
       "    </tr>\n",
       "  </thead>\n",
       "  <tbody>\n",
       "    <tr>\n",
       "      <th>2004-01-01</th>\n",
       "      <td>Manufacturing</td>\n",
       "      <td>European Union - 27 countries (from 2020)</td>\n",
       "      <td>84.4</td>\n",
       "      <td>Index, 2021=100</td>\n",
       "      <td>11.360000</td>\n",
       "      <td>0.441540</td>\n",
       "      <td>0.000000</td>\n",
       "      <td>31.236364</td>\n",
       "    </tr>\n",
       "    <tr>\n",
       "      <th>2004-02-01</th>\n",
       "      <td>Manufacturing</td>\n",
       "      <td>European Union - 27 countries (from 2020)</td>\n",
       "      <td>85.4</td>\n",
       "      <td>Index, 2021=100</td>\n",
       "      <td>10.797500</td>\n",
       "      <td>-0.085811</td>\n",
       "      <td>2.694077</td>\n",
       "      <td>30.858500</td>\n",
       "    </tr>\n",
       "    <tr>\n",
       "      <th>2004-03-01</th>\n",
       "      <td>Manufacturing</td>\n",
       "      <td>European Union - 27 countries (from 2020)</td>\n",
       "      <td>85.1</td>\n",
       "      <td>Index, 2021=100</td>\n",
       "      <td>10.900435</td>\n",
       "      <td>0.281320</td>\n",
       "      <td>-0.667869</td>\n",
       "      <td>33.634348</td>\n",
       "    </tr>\n",
       "    <tr>\n",
       "      <th>2004-04-01</th>\n",
       "      <td>Manufacturing</td>\n",
       "      <td>European Union - 27 countries (from 2020)</td>\n",
       "      <td>85.9</td>\n",
       "      <td>Index, 2021=100</td>\n",
       "      <td>10.974545</td>\n",
       "      <td>-0.603386</td>\n",
       "      <td>0.000000</td>\n",
       "      <td>33.590909</td>\n",
       "    </tr>\n",
       "    <tr>\n",
       "      <th>2004-05-01</th>\n",
       "      <td>Manufacturing</td>\n",
       "      <td>European Union - 27 countries (from 2020)</td>\n",
       "      <td>86.0</td>\n",
       "      <td>Index, 2021=100</td>\n",
       "      <td>11.221905</td>\n",
       "      <td>0.596978</td>\n",
       "      <td>0.000000</td>\n",
       "      <td>37.567619</td>\n",
       "    </tr>\n",
       "    <tr>\n",
       "      <th>...</th>\n",
       "      <td>...</td>\n",
       "      <td>...</td>\n",
       "      <td>...</td>\n",
       "      <td>...</td>\n",
       "      <td>...</td>\n",
       "      <td>...</td>\n",
       "      <td>...</td>\n",
       "      <td>...</td>\n",
       "    </tr>\n",
       "    <tr>\n",
       "      <th>2023-08-01</th>\n",
       "      <td>Manufacturing</td>\n",
       "      <td>European Union - 27 countries (from 2020)</td>\n",
       "      <td>100.8</td>\n",
       "      <td>Index, 2021=100</td>\n",
       "      <td>33.523043</td>\n",
       "      <td>0.263434</td>\n",
       "      <td>0.000000</td>\n",
       "      <td>86.116087</td>\n",
       "    </tr>\n",
       "    <tr>\n",
       "      <th>2023-09-01</th>\n",
       "      <td>Manufacturing</td>\n",
       "      <td>European Union - 27 countries (from 2020)</td>\n",
       "      <td>100.7</td>\n",
       "      <td>Index, 2021=100</td>\n",
       "      <td>36.527619</td>\n",
       "      <td>0.470927</td>\n",
       "      <td>0.000000</td>\n",
       "      <td>93.722381</td>\n",
       "    </tr>\n",
       "    <tr>\n",
       "      <th>2023-10-01</th>\n",
       "      <td>Manufacturing</td>\n",
       "      <td>European Union - 27 countries (from 2020)</td>\n",
       "      <td>100.1</td>\n",
       "      <td>Index, 2021=100</td>\n",
       "      <td>43.264545</td>\n",
       "      <td>-0.165344</td>\n",
       "      <td>0.000000</td>\n",
       "      <td>90.595909</td>\n",
       "    </tr>\n",
       "    <tr>\n",
       "      <th>2023-11-01</th>\n",
       "      <td>Manufacturing</td>\n",
       "      <td>European Union - 27 countries (from 2020)</td>\n",
       "      <td>101.3</td>\n",
       "      <td>Index, 2021=100</td>\n",
       "      <td>43.269091</td>\n",
       "      <td>-0.571545</td>\n",
       "      <td>-2.465149</td>\n",
       "      <td>82.940000</td>\n",
       "    </tr>\n",
       "    <tr>\n",
       "      <th>2023-12-01</th>\n",
       "      <td>Manufacturing</td>\n",
       "      <td>European Union - 27 countries (from 2020)</td>\n",
       "      <td>100.3</td>\n",
       "      <td>Index, 2021=100</td>\n",
       "      <td>35.318571</td>\n",
       "      <td>0.011209</td>\n",
       "      <td>0.000000</td>\n",
       "      <td>77.878571</td>\n",
       "    </tr>\n",
       "  </tbody>\n",
       "</table>\n",
       "<p>240 rows × 8 columns</p>\n",
       "</div>"
      ],
      "text/plain": [
       "                  nace_r2                                        geo  \\\n",
       "Time                                                                   \n",
       "2004-01-01  Manufacturing  European Union - 27 countries (from 2020)   \n",
       "2004-02-01  Manufacturing  European Union - 27 countries (from 2020)   \n",
       "2004-03-01  Manufacturing  European Union - 27 countries (from 2020)   \n",
       "2004-04-01  Manufacturing  European Union - 27 countries (from 2020)   \n",
       "2004-05-01  Manufacturing  European Union - 27 countries (from 2020)   \n",
       "...                   ...                                        ...   \n",
       "2023-08-01  Manufacturing  European Union - 27 countries (from 2020)   \n",
       "2023-09-01  Manufacturing  European Union - 27 countries (from 2020)   \n",
       "2023-10-01  Manufacturing  European Union - 27 countries (from 2020)   \n",
       "2023-11-01  Manufacturing  European Union - 27 countries (from 2020)   \n",
       "2023-12-01  Manufacturing  European Union - 27 countries (from 2020)   \n",
       "\n",
       "            OBS_VALUE             unit  GAS_PRICE  OilNewsShock  OilSurprise  \\\n",
       "Time                                                                           \n",
       "2004-01-01       84.4  Index, 2021=100  11.360000      0.441540     0.000000   \n",
       "2004-02-01       85.4  Index, 2021=100  10.797500     -0.085811     2.694077   \n",
       "2004-03-01       85.1  Index, 2021=100  10.900435      0.281320    -0.667869   \n",
       "2004-04-01       85.9  Index, 2021=100  10.974545     -0.603386     0.000000   \n",
       "2004-05-01       86.0  Index, 2021=100  11.221905      0.596978     0.000000   \n",
       "...               ...              ...        ...           ...          ...   \n",
       "2023-08-01      100.8  Index, 2021=100  33.523043      0.263434     0.000000   \n",
       "2023-09-01      100.7  Index, 2021=100  36.527619      0.470927     0.000000   \n",
       "2023-10-01      100.1  Index, 2021=100  43.264545     -0.165344     0.000000   \n",
       "2023-11-01      101.3  Index, 2021=100  43.269091     -0.571545    -2.465149   \n",
       "2023-12-01      100.3  Index, 2021=100  35.318571      0.011209     0.000000   \n",
       "\n",
       "            BRENT_PRICE  \n",
       "Time                     \n",
       "2004-01-01    31.236364  \n",
       "2004-02-01    30.858500  \n",
       "2004-03-01    33.634348  \n",
       "2004-04-01    33.590909  \n",
       "2004-05-01    37.567619  \n",
       "...                 ...  \n",
       "2023-08-01    86.116087  \n",
       "2023-09-01    93.722381  \n",
       "2023-10-01    90.595909  \n",
       "2023-11-01    82.940000  \n",
       "2023-12-01    77.878571  \n",
       "\n",
       "[240 rows x 8 columns]"
      ]
     },
     "execution_count": 69,
     "metadata": {},
     "output_type": "execute_result"
    }
   ],
   "source": [
    "#df_ue_c21.to_csv(os.path.join(path, \"sample_df.csv\"))\n",
    "df_final.index = df_final.index + '-01'"
   ]
  },
  {
   "cell_type": "code",
   "execution_count": 70,
   "metadata": {},
   "outputs": [],
   "source": [
    "df_final = df_final.rename(columns={\"OBS_VALUE\": \"IP\"})"
   ]
  },
  {
   "cell_type": "code",
   "execution_count": 76,
   "metadata": {},
   "outputs": [],
   "source": [
    "df_final.to_csv(os.path.join(data,\"df_final.csv\"))"
   ]
  }
 ],
 "metadata": {
  "kernelspec": {
   "display_name": ".venv",
   "language": "python",
   "name": "python3"
  },
  "language_info": {
   "codemirror_mode": {
    "name": "ipython",
    "version": 3
   },
   "file_extension": ".py",
   "mimetype": "text/x-python",
   "name": "python",
   "nbconvert_exporter": "python",
   "pygments_lexer": "ipython3",
   "version": "3.13.2"
  }
 },
 "nbformat": 4,
 "nbformat_minor": 2
}
